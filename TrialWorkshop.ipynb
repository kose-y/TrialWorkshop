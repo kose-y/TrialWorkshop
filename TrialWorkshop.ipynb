{
 "cells": [
  {
   "cell_type": "markdown",
   "metadata": {},
   "source": [
    "# Machine Learning with Python - Trial Workshop\n",
    "Seyoon Ko"
   ]
  },
  {
   "cell_type": "markdown",
   "metadata": {},
   "source": [
    "Assumption for this Trial Workshop: a little bit of knowledge in numpy and matplotlib.\n",
    "\n",
    "Packages necessary: \n",
    "- numpy - numerical arrays\n",
    "- matplotlib - visualization\n",
    "- scikit-learn - machine learning\n",
    "- python-graphviz - graph visualization (used for visualization of decision trees)\n",
    "\n",
    "An environment with all the necessary setup is provided through binder. Binder provides jupyter notebooks running on a cloud.\n",
    "\n",
    "To execute the code in each cell, select the cell by clicking on it, then press the `Run` button above, or press `Shift`+`Enter` on the keyboard."
   ]
  },
  {
   "cell_type": "code",
   "execution_count": 1,
   "metadata": {},
   "outputs": [],
   "source": [
    "import numpy as np\n",
    "import matplotlib.pyplot as plt\n",
    "import sklearn # scikit-learn\n",
    "import graphviz # Python interface for graphviz library"
   ]
  },
  {
   "cell_type": "markdown",
   "metadata": {},
   "source": [
    "## Machine Learning\n",
    "\n",
    "\n",
    "### What is Machine learning?\n",
    "\n",
    "> field of study that gives computers the ability to learn without being explicitly programmed\n",
    "- Arthur Samuel, 1959\n",
    "\n",
    "The computer learns a *model* from the data.  \n",
    "- a framework trained from data to determine the output when input data are given.\n",
    "\n",
    "\n",
    "Human just defines...\n",
    "\n",
    "- _data_ that computer learns from\n",
    "- _algorithm_ - procedure that is run on data to create a model \n",
    "    - (penalized) linear regression, decision tree, support vector machine, deep neural networks, etc. \n",
    "- _hyperparameters (optional)_ - external configuration for each algorithm. e.g., how much should the computer try to simplify the model? \n",
    "\n",
    "\n",
    "\n",
    "\n",
    "\n"
   ]
  },
  {
   "cell_type": "markdown",
   "metadata": {},
   "source": [
    "## Types of Learning\n",
    "\n",
    "- Supervised learning -  with pairs of example inputs their desired outputs (*labels*)\n",
    "    - Classification: e.g., decision tree, $k$-nearest neighbor classifier, naive Bayes\n",
    "    - Regression: e.g., linear regression \n",
    "- Unsupervised learning - with unlabeled data\n",
    "    - Clustering: e.g., $k$-means, density-based clustering\n",
    "- Semi-supervised learning, reinforcement learning, etc."
   ]
  },
  {
   "cell_type": "markdown",
   "metadata": {},
   "source": [
    "\n",
    "## Classification\n",
    "\n",
    "A task of identifying the category each input belongs to (categories predefined)\n",
    "\n",
    "Example: \n",
    "\n",
    "- identify the type of fruit based on its width and height, e.g. lemon vs. orange\n",
    "- identify the type of cancer cell based on its shape e.g. benign cell vs. malignant cell\n",
    "\n",
    "\n",
    "- *target*: category we want to identify\n",
    "- to do so, we look at *features*: individual measurable properties of objects studied\n",
    "    - width, height, etc. of a fruit\n",
    "    \n",
    "    \n",
    "Procedure\n",
    "\n",
    "- First, model learns from the example how to discriminate between classes\n",
    "- When the model is trained, we use it to make predictions\n",
    "\n",
    "\n",
    "\n",
    "\n"
   ]
  },
  {
   "cell_type": "markdown",
   "metadata": {},
   "source": [
    "## Exmaple Algorithm: Decision Tree\n",
    "\n",
    "classification represented by a simple flowchart-style structure. \n",
    "\n",
    "\"learning rule\": \n",
    "\n",
    "1. Select a feature\n",
    "2. Select a threshold that separates data points from different classes *the best* \n",
    "\n",
    "1 and 2 are repeated until we have a satisfactory model (stopping criteria)\n",
    "\n",
    "\n",
    "![](https://miro.medium.com/max/4800/1*sLKdGqGJU9Bay1i2y-91Bg.png)\n",
    "[source: lecture notes of P. Protopapas, Harvard University]\n",
    "\n",
    "- _root_: the node on the top of the tree i.e. first overall splitting\n",
    "- _leaf node_: the nodes at the bottom of the tree, no more splitting\n",
    "- _depth_ of tree: maximum distance between the root and leaf nodes"
   ]
  },
  {
   "cell_type": "markdown",
   "metadata": {},
   "source": [
    "\n",
    "\n",
    "## Example dataset\n",
    "A synthetic example dataset. (unrelated to the previous examples)\n",
    "\n",
    "Two data files provided:\n",
    "\n",
    "* `CollML_testdataset_features.dat`: features for each sample\n",
    "* `CollML_testdataset_labels.dat`: class of each sample\n",
    "\n"
   ]
  },
  {
   "cell_type": "code",
   "execution_count": 2,
   "metadata": {},
   "outputs": [],
   "source": [
    "features = np.loadtxt('CollML_testdataset_features.dat')\n",
    "labels = np.loadtxt('CollML_testdataset_labels.dat')"
   ]
  },
  {
   "cell_type": "code",
   "execution_count": 3,
   "metadata": {},
   "outputs": [
    {
     "name": "stdout",
     "output_type": "stream",
     "text": [
      "Shape of features (500, 2)\n",
      "Shape of labels (500,)\n"
     ]
    }
   ],
   "source": [
    "print(\"Shape of features\", features.shape)\n",
    "print(\"Shape of labels\", labels.shape)"
   ]
  },
  {
   "cell_type": "code",
   "execution_count": 4,
   "metadata": {},
   "outputs": [
    {
     "data": {
      "text/plain": [
       "array([0., 1.])"
      ]
     },
     "execution_count": 4,
     "metadata": {},
     "output_type": "execute_result"
    }
   ],
   "source": [
    "np.unique(labels)   ## shows unique values in an array"
   ]
  },
  {
   "cell_type": "markdown",
   "metadata": {},
   "source": [
    "We have a dataset with 500 samples and 2 features. The goal is to create a classifier that reproduces the _labels_ based on _features_. "
   ]
  },
  {
   "cell_type": "markdown",
   "metadata": {},
   "source": [
    "### Train-test split\n",
    "\n",
    "To evaluate the performance of an algorithm after training a model, we split the data into a \"training set\" and a \"test set\".\n",
    "\n",
    "- training set: used to fit the machine learning model.\n",
    "- test set: used to evaluate the fit machine learning model. Shall not be used in training, to see how well the model _generalizes_ to the data yet to be seen by the classifier\n"
   ]
  },
  {
   "cell_type": "code",
   "execution_count": 5,
   "metadata": {},
   "outputs": [],
   "source": [
    "from sklearn.model_selection import train_test_split\n",
    "seed = 3\n",
    "features_train, features_test, labels_train, labels_test = train_test_split( \n",
    "                features, labels, test_size=0.2, \n",
    "                random_state=seed)"
   ]
  },
  {
   "cell_type": "markdown",
   "metadata": {},
   "source": [
    "Note: `random_state=seed` is used to make sure that we get the same training-test split every time we run this function (reproducibility). "
   ]
  },
  {
   "cell_type": "code",
   "execution_count": 6,
   "metadata": {},
   "outputs": [
    {
     "name": "stdout",
     "output_type": "stream",
     "text": [
      "Shape of the whole dataset (500, 2)\n",
      "Shape of the train dataset (400, 2)\n",
      "Shape of the test dataset (100, 2)\n"
     ]
    }
   ],
   "source": [
    "print(\"Shape of the whole dataset\",features.shape)\n",
    "print(\"Shape of the train dataset\",features_train\n",
    "      .shape)\n",
    "print(\"Shape of the test dataset\",features_test.shape)"
   ]
  },
  {
   "cell_type": "markdown",
   "metadata": {},
   "source": [
    "## Visualization\n",
    "\n",
    "Let's visualize the training set. \n",
    "- Class \"0\": blue circles\n",
    "- Class \"1\": red squares"
   ]
  },
  {
   "cell_type": "code",
   "execution_count": 7,
   "metadata": {},
   "outputs": [
    {
     "data": {
      "image/png": "[encoded data removed]",
      "text/plain": [
       "<Figure size 432x288 with 1 Axes>"
      ]
     },
     "metadata": {
      "needs_background": "light"
     },
     "output_type": "display_data"
    }
   ],
   "source": [
    "plt.plot( features_train[ labels_train == 0, 0 ], features_train[ labels_train == 0, 1 ], 'bo'  )\n",
    "plt.plot( features_train[ labels_train == 1, 0 ], features_train[ labels_train == 1, 1 ], 'rs'  )\n",
    "plt.show()"
   ]
  },
  {
   "cell_type": "markdown",
   "metadata": {},
   "source": [
    "### Fitting a decision tree"
   ]
  },
  {
   "cell_type": "code",
   "execution_count": 8,
   "metadata": {},
   "outputs": [],
   "source": [
    "from sklearn.tree import DecisionTreeClassifier\n",
    "clf = DecisionTreeClassifier(max_depth=10,random_state=seed)"
   ]
  },
  {
   "cell_type": "markdown",
   "metadata": {},
   "source": [
    "- `max_depth` : a hyperparameter, controls complexity of the resulting model by limiting the depth of the tree \n",
    "- `random_state` is used once again for the sake of reproducibility (something random is involved in the algorithm)\n",
    "\n",
    "Variable `clf` will contain all information learned by the classifier. To perform the learning step, we use the method `fit()`:"
   ]
  },
  {
   "cell_type": "code",
   "execution_count": 9,
   "metadata": {},
   "outputs": [
    {
     "data": {
      "text/plain": [
       "DecisionTreeClassifier(max_depth=10, random_state=3)"
      ]
     },
     "execution_count": 9,
     "metadata": {},
     "output_type": "execute_result"
    }
   ],
   "source": [
    "clf.fit(features_train, labels_train)"
   ]
  },
  {
   "cell_type": "markdown",
   "metadata": {},
   "source": [
    "The method `predict(features)` predicts the label of each data point in `features`. For example, to get a prediction for the datapoint (0, 1):"
   ]
  },
  {
   "cell_type": "code",
   "execution_count": 10,
   "metadata": {},
   "outputs": [
    {
     "data": {
      "text/plain": [
       "array([0.])"
      ]
     },
     "execution_count": 10,
     "metadata": {},
     "output_type": "execute_result"
    }
   ],
   "source": [
    "clf.predict([[0, 1]])"
   ]
  },
  {
   "cell_type": "markdown",
   "metadata": {},
   "source": [
    "It is classified to class \"0\". "
   ]
  },
  {
   "cell_type": "markdown",
   "metadata": {},
   "source": [
    "The method `score(features, labels)` gives the accuracy of the classifier on `features` and `labels`."
   ]
  },
  {
   "cell_type": "code",
   "execution_count": 11,
   "metadata": {},
   "outputs": [
    {
     "data": {
      "text/plain": [
       "0.9975"
      ]
     },
     "execution_count": 11,
     "metadata": {},
     "output_type": "execute_result"
    }
   ],
   "source": [
    "clf.score(features_train, labels_train)"
   ]
  },
  {
   "cell_type": "markdown",
   "metadata": {},
   "source": [
    "We have a classifier that almost perfectly classifies the training set. "
   ]
  },
  {
   "cell_type": "markdown",
   "metadata": {},
   "source": [
    "We can also see the accuracy on the test set: "
   ]
  },
  {
   "cell_type": "code",
   "execution_count": 12,
   "metadata": {},
   "outputs": [
    {
     "data": {
      "text/plain": [
       "0.91"
      ]
     },
     "execution_count": 12,
     "metadata": {},
     "output_type": "execute_result"
    }
   ],
   "source": [
    "clf.score(features_test, labels_test)"
   ]
  },
  {
   "cell_type": "markdown",
   "metadata": {},
   "source": [
    "The learned tree can be visualized through the package `graphviz`. "
   ]
  },
  {
   "cell_type": "code",
   "execution_count": 13,
   "metadata": {},
   "outputs": [],
   "source": [
    "from sklearn.tree import export_graphviz"
   ]
  },
  {
   "cell_type": "code",
   "execution_count": 14,
   "metadata": {},
   "outputs": [],
   "source": [
    "def show_tree(clf):\n",
    "    filename = 'tmp.dat'\n",
    "    export_graphviz(clf, filename) \n",
    "    return graphviz.Source.from_file(filename)  "
   ]
  },
  {
   "cell_type": "code",
   "execution_count": 15,
   "metadata": {},
   "outputs": [
    {
     "data": {
      "image/svg+xml": [
       "<?xml version=\"1.0\" encoding=\"UTF-8\" standalone=\"no\"?>\n",
       "<!DOCTYPE svg PUBLIC \"-//W3C//DTD SVG 1.1//EN\"\n",
       " \"http://www.w3.org/Graphics/SVG/1.1/DTD/svg11.dtd\">\n",
       "<!-- Generated by graphviz version 2.47.2 (0)\n",
       " -->\n",
       "<!-- Title: Tree Pages: 1 -->\n",
       "<svg width=\"1150pt\" height=\"1101pt\"\n",
       " viewBox=\"0.00 0.00 1150.00 1101.00\" xmlns=\"http://www.w3.org/2000/svg\" xmlns:xlink=\"http://www.w3.org/1999/xlink\">\n",
       "<g id=\"graph0\" class=\"graph\" transform=\"scale(1 1) rotate(0) translate(4 1097)\">\n",
       "<title>Tree</title>\n",
       "<polygon fill=\"white\" stroke=\"transparent\" points=\"-4,4 -4,-1097 1146,-1097 1146,4 -4,4\"/>\n",
       "<!-- 0 -->\n",
       "<g id=\"node1\" class=\"node\">\n",
       "<title>0</title>\n",
       "<polygon fill=\"none\" stroke=\"black\" points=\"984.5,-1093 865.5,-1093 865.5,-1025 984.5,-1025 984.5,-1093\"/>\n",
       "<text text-anchor=\"middle\" x=\"925\" y=\"-1077.8\" font-family=\"Times,serif\" font-size=\"14.00\">X[1] &lt;= 4.11</text>\n",
       "<text text-anchor=\"middle\" x=\"925\" y=\"-1062.8\" font-family=\"Times,serif\" font-size=\"14.00\">gini = 0.499</text>\n",
       "<text text-anchor=\"middle\" x=\"925\" y=\"-1047.8\" font-family=\"Times,serif\" font-size=\"14.00\">samples = 400</text>\n",
       "<text text-anchor=\"middle\" x=\"925\" y=\"-1032.8\" font-family=\"Times,serif\" font-size=\"14.00\">value = [207, 193]</text>\n",
       "</g>\n",
       "<!-- 1 -->\n",
       "<g id=\"node2\" class=\"node\">\n",
       "<title>1</title>\n",
       "<polygon fill=\"none\" stroke=\"black\" points=\"921.5,-989 802.5,-989 802.5,-921 921.5,-921 921.5,-989\"/>\n",
       "<text text-anchor=\"middle\" x=\"862\" y=\"-973.8\" font-family=\"Times,serif\" font-size=\"14.00\">X[0] &lt;= 3.057</text>\n",
       "<text text-anchor=\"middle\" x=\"862\" y=\"-958.8\" font-family=\"Times,serif\" font-size=\"14.00\">gini = 0.5</text>\n",
       "<text text-anchor=\"middle\" x=\"862\" y=\"-943.8\" font-family=\"Times,serif\" font-size=\"14.00\">samples = 390</text>\n",
       "<text text-anchor=\"middle\" x=\"862\" y=\"-928.8\" font-family=\"Times,serif\" font-size=\"14.00\">value = [198, 192]</text>\n",
       "</g>\n",
       "<!-- 0&#45;&gt;1 -->\n",
       "<g id=\"edge1\" class=\"edge\">\n",
       "<title>0&#45;&gt;1</title>\n",
       "<path fill=\"none\" stroke=\"black\" d=\"M904.55,-1024.88C899.26,-1016.33 893.51,-1007.01 887.99,-998.07\"/>\n",
       "<polygon fill=\"black\" stroke=\"black\" points=\"890.8,-995.97 882.57,-989.3 884.84,-999.65 890.8,-995.97\"/>\n",
       "<text text-anchor=\"middle\" x=\"876.82\" y=\"-1009.93\" font-family=\"Times,serif\" font-size=\"14.00\">True</text>\n",
       "</g>\n",
       "<!-- 44 -->\n",
       "<g id=\"node45\" class=\"node\">\n",
       "<title>44</title>\n",
       "<polygon fill=\"none\" stroke=\"black\" points=\"1036.5,-989 939.5,-989 939.5,-921 1036.5,-921 1036.5,-989\"/>\n",
       "<text text-anchor=\"middle\" x=\"988\" y=\"-973.8\" font-family=\"Times,serif\" font-size=\"14.00\">X[0] &lt;= 0.475</text>\n",
       "<text text-anchor=\"middle\" x=\"988\" y=\"-958.8\" font-family=\"Times,serif\" font-size=\"14.00\">gini = 0.18</text>\n",
       "<text text-anchor=\"middle\" x=\"988\" y=\"-943.8\" font-family=\"Times,serif\" font-size=\"14.00\">samples = 10</text>\n",
       "<text text-anchor=\"middle\" x=\"988\" y=\"-928.8\" font-family=\"Times,serif\" font-size=\"14.00\">value = [9, 1]</text>\n",
       "</g>\n",
       "<!-- 0&#45;&gt;44 -->\n",
       "<g id=\"edge44\" class=\"edge\">\n",
       "<title>0&#45;&gt;44</title>\n",
       "<path fill=\"none\" stroke=\"black\" d=\"M945.45,-1024.88C950.74,-1016.33 956.49,-1007.01 962.01,-998.07\"/>\n",
       "<polygon fill=\"black\" stroke=\"black\" points=\"965.16,-999.65 967.43,-989.3 959.2,-995.97 965.16,-999.65\"/>\n",
       "<text text-anchor=\"middle\" x=\"973.18\" y=\"-1009.93\" font-family=\"Times,serif\" font-size=\"14.00\">False</text>\n",
       "</g>\n",
       "<!-- 2 -->\n",
       "<g id=\"node3\" class=\"node\">\n",
       "<title>2</title>\n",
       "<polygon fill=\"none\" stroke=\"black\" points=\"794.5,-885 675.5,-885 675.5,-817 794.5,-817 794.5,-885\"/>\n",
       "<text text-anchor=\"middle\" x=\"735\" y=\"-869.8\" font-family=\"Times,serif\" font-size=\"14.00\">X[1] &lt;= 1.497</text>\n",
       "<text text-anchor=\"middle\" x=\"735\" y=\"-854.8\" font-family=\"Times,serif\" font-size=\"14.00\">gini = 0.498</text>\n",
       "<text text-anchor=\"middle\" x=\"735\" y=\"-839.8\" font-family=\"Times,serif\" font-size=\"14.00\">samples = 294</text>\n",
       "<text text-anchor=\"middle\" x=\"735\" y=\"-824.8\" font-family=\"Times,serif\" font-size=\"14.00\">value = [157, 137]</text>\n",
       "</g>\n",
       "<!-- 1&#45;&gt;2 -->\n",
       "<g id=\"edge2\" class=\"edge\">\n",
       "<title>1&#45;&gt;2</title>\n",
       "<path fill=\"none\" stroke=\"black\" d=\"M820.77,-920.88C809.12,-911.53 796.33,-901.26 784.27,-891.57\"/>\n",
       "<polygon fill=\"black\" stroke=\"black\" points=\"786.45,-888.83 776.46,-885.3 782.07,-894.29 786.45,-888.83\"/>\n",
       "</g>\n",
       "<!-- 41 -->\n",
       "<g id=\"node42\" class=\"node\">\n",
       "<title>41</title>\n",
       "<polygon fill=\"none\" stroke=\"black\" points=\"917.5,-885 812.5,-885 812.5,-817 917.5,-817 917.5,-885\"/>\n",
       "<text text-anchor=\"middle\" x=\"865\" y=\"-869.8\" font-family=\"Times,serif\" font-size=\"14.00\">X[1] &lt;= 1.612</text>\n",
       "<text text-anchor=\"middle\" x=\"865\" y=\"-854.8\" font-family=\"Times,serif\" font-size=\"14.00\">gini = 0.489</text>\n",
       "<text text-anchor=\"middle\" x=\"865\" y=\"-839.8\" font-family=\"Times,serif\" font-size=\"14.00\">samples = 96</text>\n",
       "<text text-anchor=\"middle\" x=\"865\" y=\"-824.8\" font-family=\"Times,serif\" font-size=\"14.00\">value = [41, 55]</text>\n",
       "</g>\n",
       "<!-- 1&#45;&gt;41 -->\n",
       "<g id=\"edge41\" class=\"edge\">\n",
       "<title>1&#45;&gt;41</title>\n",
       "<path fill=\"none\" stroke=\"black\" d=\"M862.97,-920.88C863.21,-912.78 863.47,-903.98 863.72,-895.47\"/>\n",
       "<polygon fill=\"black\" stroke=\"black\" points=\"867.23,-895.4 864.02,-885.3 860.23,-895.19 867.23,-895.4\"/>\n",
       "</g>\n",
       "<!-- 3 -->\n",
       "<g id=\"node4\" class=\"node\">\n",
       "<title>3</title>\n",
       "<polygon fill=\"none\" stroke=\"black\" points=\"619,-781 507,-781 507,-713 619,-713 619,-781\"/>\n",
       "<text text-anchor=\"middle\" x=\"563\" y=\"-765.8\" font-family=\"Times,serif\" font-size=\"14.00\">X[0] &lt;= 1.938</text>\n",
       "<text text-anchor=\"middle\" x=\"563\" y=\"-750.8\" font-family=\"Times,serif\" font-size=\"14.00\">gini = 0.439</text>\n",
       "<text text-anchor=\"middle\" x=\"563\" y=\"-735.8\" font-family=\"Times,serif\" font-size=\"14.00\">samples = 154</text>\n",
       "<text text-anchor=\"middle\" x=\"563\" y=\"-720.8\" font-family=\"Times,serif\" font-size=\"14.00\">value = [104, 50]</text>\n",
       "</g>\n",
       "<!-- 2&#45;&gt;3 -->\n",
       "<g id=\"edge3\" class=\"edge\">\n",
       "<title>2&#45;&gt;3</title>\n",
       "<path fill=\"none\" stroke=\"black\" d=\"M679.16,-816.88C662.7,-807.12 644.56,-796.37 627.6,-786.31\"/>\n",
       "<polygon fill=\"black\" stroke=\"black\" points=\"629.24,-783.22 618.86,-781.12 625.67,-789.24 629.24,-783.22\"/>\n",
       "</g>\n",
       "<!-- 30 -->\n",
       "<g id=\"node31\" class=\"node\">\n",
       "<title>30</title>\n",
       "<polygon fill=\"none\" stroke=\"black\" points=\"790.5,-781 685.5,-781 685.5,-713 790.5,-713 790.5,-781\"/>\n",
       "<text text-anchor=\"middle\" x=\"738\" y=\"-765.8\" font-family=\"Times,serif\" font-size=\"14.00\">X[0] &lt;= 1.383</text>\n",
       "<text text-anchor=\"middle\" x=\"738\" y=\"-750.8\" font-family=\"Times,serif\" font-size=\"14.00\">gini = 0.471</text>\n",
       "<text text-anchor=\"middle\" x=\"738\" y=\"-735.8\" font-family=\"Times,serif\" font-size=\"14.00\">samples = 140</text>\n",
       "<text text-anchor=\"middle\" x=\"738\" y=\"-720.8\" font-family=\"Times,serif\" font-size=\"14.00\">value = [53, 87]</text>\n",
       "</g>\n",
       "<!-- 2&#45;&gt;30 -->\n",
       "<g id=\"edge30\" class=\"edge\">\n",
       "<title>2&#45;&gt;30</title>\n",
       "<path fill=\"none\" stroke=\"black\" d=\"M735.97,-816.88C736.21,-808.78 736.47,-799.98 736.72,-791.47\"/>\n",
       "<polygon fill=\"black\" stroke=\"black\" points=\"740.23,-791.4 737.02,-781.3 733.23,-791.19 740.23,-791.4\"/>\n",
       "</g>\n",
       "<!-- 4 -->\n",
       "<g id=\"node5\" class=\"node\">\n",
       "<title>4</title>\n",
       "<polygon fill=\"none\" stroke=\"black\" points=\"448.5,-677 343.5,-677 343.5,-609 448.5,-609 448.5,-677\"/>\n",
       "<text text-anchor=\"middle\" x=\"396\" y=\"-661.8\" font-family=\"Times,serif\" font-size=\"14.00\">X[0] &lt;= 1.066</text>\n",
       "<text text-anchor=\"middle\" x=\"396\" y=\"-646.8\" font-family=\"Times,serif\" font-size=\"14.00\">gini = 0.12</text>\n",
       "<text text-anchor=\"middle\" x=\"396\" y=\"-631.8\" font-family=\"Times,serif\" font-size=\"14.00\">samples = 109</text>\n",
       "<text text-anchor=\"middle\" x=\"396\" y=\"-616.8\" font-family=\"Times,serif\" font-size=\"14.00\">value = [102, 7]</text>\n",
       "</g>\n",
       "<!-- 3&#45;&gt;4 -->\n",
       "<g id=\"edge4\" class=\"edge\">\n",
       "<title>3&#45;&gt;4</title>\n",
       "<path fill=\"none\" stroke=\"black\" d=\"M508.78,-712.88C492.32,-702.83 474.11,-691.71 457.22,-681.39\"/>\n",
       "<polygon fill=\"black\" stroke=\"black\" points=\"458.88,-678.31 448.53,-676.08 455.24,-684.28 458.88,-678.31\"/>\n",
       "</g>\n",
       "<!-- 27 -->\n",
       "<g id=\"node28\" class=\"node\">\n",
       "<title>27</title>\n",
       "<polygon fill=\"none\" stroke=\"black\" points=\"612,-677 514,-677 514,-609 612,-609 612,-677\"/>\n",
       "<text text-anchor=\"middle\" x=\"563\" y=\"-661.8\" font-family=\"Times,serif\" font-size=\"14.00\">X[1] &lt;= 1.209</text>\n",
       "<text text-anchor=\"middle\" x=\"563\" y=\"-646.8\" font-family=\"Times,serif\" font-size=\"14.00\">gini = 0.085</text>\n",
       "<text text-anchor=\"middle\" x=\"563\" y=\"-631.8\" font-family=\"Times,serif\" font-size=\"14.00\">samples = 45</text>\n",
       "<text text-anchor=\"middle\" x=\"563\" y=\"-616.8\" font-family=\"Times,serif\" font-size=\"14.00\">value = [2, 43]</text>\n",
       "</g>\n",
       "<!-- 3&#45;&gt;27 -->\n",
       "<g id=\"edge27\" class=\"edge\">\n",
       "<title>3&#45;&gt;27</title>\n",
       "<path fill=\"none\" stroke=\"black\" d=\"M563,-712.88C563,-704.78 563,-695.98 563,-687.47\"/>\n",
       "<polygon fill=\"black\" stroke=\"black\" points=\"566.5,-687.3 563,-677.3 559.5,-687.3 566.5,-687.3\"/>\n",
       "</g>\n",
       "<!-- 5 -->\n",
       "<g id=\"node6\" class=\"node\">\n",
       "<title>5</title>\n",
       "<polygon fill=\"none\" stroke=\"black\" points=\"329,-573 231,-573 231,-505 329,-505 329,-573\"/>\n",
       "<text text-anchor=\"middle\" x=\"280\" y=\"-557.8\" font-family=\"Times,serif\" font-size=\"14.00\">X[1] &lt;= 1.023</text>\n",
       "<text text-anchor=\"middle\" x=\"280\" y=\"-542.8\" font-family=\"Times,serif\" font-size=\"14.00\">gini = 0.06</text>\n",
       "<text text-anchor=\"middle\" x=\"280\" y=\"-527.8\" font-family=\"Times,serif\" font-size=\"14.00\">samples = 97</text>\n",
       "<text text-anchor=\"middle\" x=\"280\" y=\"-512.8\" font-family=\"Times,serif\" font-size=\"14.00\">value = [94, 3]</text>\n",
       "</g>\n",
       "<!-- 4&#45;&gt;5 -->\n",
       "<g id=\"edge5\" class=\"edge\">\n",
       "<title>4&#45;&gt;5</title>\n",
       "<path fill=\"none\" stroke=\"black\" d=\"M358.34,-608.88C347.9,-599.71 336.46,-589.65 325.63,-580.12\"/>\n",
       "<polygon fill=\"black\" stroke=\"black\" points=\"327.69,-577.27 317.87,-573.3 323.07,-582.53 327.69,-577.27\"/>\n",
       "</g>\n",
       "<!-- 16 -->\n",
       "<g id=\"node17\" class=\"node\">\n",
       "<title>16</title>\n",
       "<polygon fill=\"none\" stroke=\"black\" points=\"444.5,-573 347.5,-573 347.5,-505 444.5,-505 444.5,-573\"/>\n",
       "<text text-anchor=\"middle\" x=\"396\" y=\"-557.8\" font-family=\"Times,serif\" font-size=\"14.00\">X[0] &lt;= 1.235</text>\n",
       "<text text-anchor=\"middle\" x=\"396\" y=\"-542.8\" font-family=\"Times,serif\" font-size=\"14.00\">gini = 0.444</text>\n",
       "<text text-anchor=\"middle\" x=\"396\" y=\"-527.8\" font-family=\"Times,serif\" font-size=\"14.00\">samples = 12</text>\n",
       "<text text-anchor=\"middle\" x=\"396\" y=\"-512.8\" font-family=\"Times,serif\" font-size=\"14.00\">value = [8, 4]</text>\n",
       "</g>\n",
       "<!-- 4&#45;&gt;16 -->\n",
       "<g id=\"edge16\" class=\"edge\">\n",
       "<title>4&#45;&gt;16</title>\n",
       "<path fill=\"none\" stroke=\"black\" d=\"M396,-608.88C396,-600.78 396,-591.98 396,-583.47\"/>\n",
       "<polygon fill=\"black\" stroke=\"black\" points=\"399.5,-583.3 396,-573.3 392.5,-583.3 399.5,-583.3\"/>\n",
       "</g>\n",
       "<!-- 6 -->\n",
       "<g id=\"node7\" class=\"node\">\n",
       "<title>6</title>\n",
       "<polygon fill=\"none\" stroke=\"black\" points=\"214,-469 116,-469 116,-401 214,-401 214,-469\"/>\n",
       "<text text-anchor=\"middle\" x=\"165\" y=\"-453.8\" font-family=\"Times,serif\" font-size=\"14.00\">X[0] &lt;= 0.751</text>\n",
       "<text text-anchor=\"middle\" x=\"165\" y=\"-438.8\" font-family=\"Times,serif\" font-size=\"14.00\">gini = 0.022</text>\n",
       "<text text-anchor=\"middle\" x=\"165\" y=\"-423.8\" font-family=\"Times,serif\" font-size=\"14.00\">samples = 90</text>\n",
       "<text text-anchor=\"middle\" x=\"165\" y=\"-408.8\" font-family=\"Times,serif\" font-size=\"14.00\">value = [89, 1]</text>\n",
       "</g>\n",
       "<!-- 5&#45;&gt;6 -->\n",
       "<g id=\"edge6\" class=\"edge\">\n",
       "<title>5&#45;&gt;6</title>\n",
       "<path fill=\"none\" stroke=\"black\" d=\"M242.66,-504.88C232.32,-495.71 220.98,-485.65 210.24,-476.12\"/>\n",
       "<polygon fill=\"black\" stroke=\"black\" points=\"212.35,-473.32 202.54,-469.3 207.7,-478.55 212.35,-473.32\"/>\n",
       "</g>\n",
       "<!-- 11 -->\n",
       "<g id=\"node12\" class=\"node\">\n",
       "<title>11</title>\n",
       "<polygon fill=\"none\" stroke=\"black\" points=\"329.5,-469 232.5,-469 232.5,-401 329.5,-401 329.5,-469\"/>\n",
       "<text text-anchor=\"middle\" x=\"281\" y=\"-453.8\" font-family=\"Times,serif\" font-size=\"14.00\">X[1] &lt;= 1.047</text>\n",
       "<text text-anchor=\"middle\" x=\"281\" y=\"-438.8\" font-family=\"Times,serif\" font-size=\"14.00\">gini = 0.408</text>\n",
       "<text text-anchor=\"middle\" x=\"281\" y=\"-423.8\" font-family=\"Times,serif\" font-size=\"14.00\">samples = 7</text>\n",
       "<text text-anchor=\"middle\" x=\"281\" y=\"-408.8\" font-family=\"Times,serif\" font-size=\"14.00\">value = [5, 2]</text>\n",
       "</g>\n",
       "<!-- 5&#45;&gt;11 -->\n",
       "<g id=\"edge11\" class=\"edge\">\n",
       "<title>5&#45;&gt;11</title>\n",
       "<path fill=\"none\" stroke=\"black\" d=\"M280.32,-504.88C280.4,-496.78 280.49,-487.98 280.57,-479.47\"/>\n",
       "<polygon fill=\"black\" stroke=\"black\" points=\"284.08,-479.33 280.67,-469.3 277.08,-479.26 284.08,-479.33\"/>\n",
       "</g>\n",
       "<!-- 7 -->\n",
       "<g id=\"node8\" class=\"node\">\n",
       "<title>7</title>\n",
       "<polygon fill=\"none\" stroke=\"black\" points=\"98,-357.5 0,-357.5 0,-304.5 98,-304.5 98,-357.5\"/>\n",
       "<text text-anchor=\"middle\" x=\"49\" y=\"-342.3\" font-family=\"Times,serif\" font-size=\"14.00\">gini = 0.0</text>\n",
       "<text text-anchor=\"middle\" x=\"49\" y=\"-327.3\" font-family=\"Times,serif\" font-size=\"14.00\">samples = 82</text>\n",
       "<text text-anchor=\"middle\" x=\"49\" y=\"-312.3\" font-family=\"Times,serif\" font-size=\"14.00\">value = [82, 0]</text>\n",
       "</g>\n",
       "<!-- 6&#45;&gt;7 -->\n",
       "<g id=\"edge7\" class=\"edge\">\n",
       "<title>6&#45;&gt;7</title>\n",
       "<path fill=\"none\" stroke=\"black\" d=\"M127.34,-400.88C113.96,-389.12 98.92,-375.89 85.62,-364.2\"/>\n",
       "<polygon fill=\"black\" stroke=\"black\" points=\"87.84,-361.49 78.02,-357.52 83.22,-366.75 87.84,-361.49\"/>\n",
       "</g>\n",
       "<!-- 8 -->\n",
       "<g id=\"node9\" class=\"node\">\n",
       "<title>8</title>\n",
       "<polygon fill=\"none\" stroke=\"black\" points=\"213.5,-365 116.5,-365 116.5,-297 213.5,-297 213.5,-365\"/>\n",
       "<text text-anchor=\"middle\" x=\"165\" y=\"-349.8\" font-family=\"Times,serif\" font-size=\"14.00\">X[0] &lt;= 0.763</text>\n",
       "<text text-anchor=\"middle\" x=\"165\" y=\"-334.8\" font-family=\"Times,serif\" font-size=\"14.00\">gini = 0.219</text>\n",
       "<text text-anchor=\"middle\" x=\"165\" y=\"-319.8\" font-family=\"Times,serif\" font-size=\"14.00\">samples = 8</text>\n",
       "<text text-anchor=\"middle\" x=\"165\" y=\"-304.8\" font-family=\"Times,serif\" font-size=\"14.00\">value = [7, 1]</text>\n",
       "</g>\n",
       "<!-- 6&#45;&gt;8 -->\n",
       "<g id=\"edge8\" class=\"edge\">\n",
       "<title>6&#45;&gt;8</title>\n",
       "<path fill=\"none\" stroke=\"black\" d=\"M165,-400.88C165,-392.78 165,-383.98 165,-375.47\"/>\n",
       "<polygon fill=\"black\" stroke=\"black\" points=\"168.5,-375.3 165,-365.3 161.5,-375.3 168.5,-375.3\"/>\n",
       "</g>\n",
       "<!-- 9 -->\n",
       "<g id=\"node10\" class=\"node\">\n",
       "<title>9</title>\n",
       "<polygon fill=\"none\" stroke=\"black\" points=\"159,-253.5 67,-253.5 67,-200.5 159,-200.5 159,-253.5\"/>\n",
       "<text text-anchor=\"middle\" x=\"113\" y=\"-238.3\" font-family=\"Times,serif\" font-size=\"14.00\">gini = 0.0</text>\n",
       "<text text-anchor=\"middle\" x=\"113\" y=\"-223.3\" font-family=\"Times,serif\" font-size=\"14.00\">samples = 1</text>\n",
       "<text text-anchor=\"middle\" x=\"113\" y=\"-208.3\" font-family=\"Times,serif\" font-size=\"14.00\">value = [0, 1]</text>\n",
       "</g>\n",
       "<!-- 8&#45;&gt;9 -->\n",
       "<g id=\"edge9\" class=\"edge\">\n",
       "<title>8&#45;&gt;9</title>\n",
       "<path fill=\"none\" stroke=\"black\" d=\"M148.12,-296.88C142.51,-285.89 136.26,-273.62 130.6,-262.52\"/>\n",
       "<polygon fill=\"black\" stroke=\"black\" points=\"133.67,-260.84 126.01,-253.52 127.43,-264.02 133.67,-260.84\"/>\n",
       "</g>\n",
       "<!-- 10 -->\n",
       "<g id=\"node11\" class=\"node\">\n",
       "<title>10</title>\n",
       "<polygon fill=\"none\" stroke=\"black\" points=\"269,-253.5 177,-253.5 177,-200.5 269,-200.5 269,-253.5\"/>\n",
       "<text text-anchor=\"middle\" x=\"223\" y=\"-238.3\" font-family=\"Times,serif\" font-size=\"14.00\">gini = 0.0</text>\n",
       "<text text-anchor=\"middle\" x=\"223\" y=\"-223.3\" font-family=\"Times,serif\" font-size=\"14.00\">samples = 7</text>\n",
       "<text text-anchor=\"middle\" x=\"223\" y=\"-208.3\" font-family=\"Times,serif\" font-size=\"14.00\">value = [7, 0]</text>\n",
       "</g>\n",
       "<!-- 8&#45;&gt;10 -->\n",
       "<g id=\"edge10\" class=\"edge\">\n",
       "<title>8&#45;&gt;10</title>\n",
       "<path fill=\"none\" stroke=\"black\" d=\"M183.83,-296.88C190.08,-285.89 197.06,-273.62 203.37,-262.52\"/>\n",
       "<polygon fill=\"black\" stroke=\"black\" points=\"206.59,-263.94 208.49,-253.52 200.5,-260.48 206.59,-263.94\"/>\n",
       "</g>\n",
       "<!-- 12 -->\n",
       "<g id=\"node13\" class=\"node\">\n",
       "<title>12</title>\n",
       "<polygon fill=\"none\" stroke=\"black\" points=\"325,-357.5 233,-357.5 233,-304.5 325,-304.5 325,-357.5\"/>\n",
       "<text text-anchor=\"middle\" x=\"279\" y=\"-342.3\" font-family=\"Times,serif\" font-size=\"14.00\">gini = 0.0</text>\n",
       "<text text-anchor=\"middle\" x=\"279\" y=\"-327.3\" font-family=\"Times,serif\" font-size=\"14.00\">samples = 1</text>\n",
       "<text text-anchor=\"middle\" x=\"279\" y=\"-312.3\" font-family=\"Times,serif\" font-size=\"14.00\">value = [0, 1]</text>\n",
       "</g>\n",
       "<!-- 11&#45;&gt;12 -->\n",
       "<g id=\"edge12\" class=\"edge\">\n",
       "<title>11&#45;&gt;12</title>\n",
       "<path fill=\"none\" stroke=\"black\" d=\"M280.35,-400.88C280.14,-390.22 279.91,-378.35 279.7,-367.52\"/>\n",
       "<polygon fill=\"black\" stroke=\"black\" points=\"283.2,-367.45 279.5,-357.52 276.2,-367.59 283.2,-367.45\"/>\n",
       "</g>\n",
       "<!-- 13 -->\n",
       "<g id=\"node14\" class=\"node\">\n",
       "<title>13</title>\n",
       "<polygon fill=\"none\" stroke=\"black\" points=\"444.5,-365 343.5,-365 343.5,-297 444.5,-297 444.5,-365\"/>\n",
       "<text text-anchor=\"middle\" x=\"394\" y=\"-349.8\" font-family=\"Times,serif\" font-size=\"14.00\">X[0] &lt;= &#45;0.901</text>\n",
       "<text text-anchor=\"middle\" x=\"394\" y=\"-334.8\" font-family=\"Times,serif\" font-size=\"14.00\">gini = 0.278</text>\n",
       "<text text-anchor=\"middle\" x=\"394\" y=\"-319.8\" font-family=\"Times,serif\" font-size=\"14.00\">samples = 6</text>\n",
       "<text text-anchor=\"middle\" x=\"394\" y=\"-304.8\" font-family=\"Times,serif\" font-size=\"14.00\">value = [5, 1]</text>\n",
       "</g>\n",
       "<!-- 11&#45;&gt;13 -->\n",
       "<g id=\"edge13\" class=\"edge\">\n",
       "<title>11&#45;&gt;13</title>\n",
       "<path fill=\"none\" stroke=\"black\" d=\"M317.69,-400.88C327.85,-391.71 339,-381.65 349.55,-372.12\"/>\n",
       "<polygon fill=\"black\" stroke=\"black\" points=\"352.03,-374.6 357.11,-365.3 347.34,-369.4 352.03,-374.6\"/>\n",
       "</g>\n",
       "<!-- 14 -->\n",
       "<g id=\"node15\" class=\"node\">\n",
       "<title>14</title>\n",
       "<polygon fill=\"none\" stroke=\"black\" points=\"383,-253.5 291,-253.5 291,-200.5 383,-200.5 383,-253.5\"/>\n",
       "<text text-anchor=\"middle\" x=\"337\" y=\"-238.3\" font-family=\"Times,serif\" font-size=\"14.00\">gini = 0.0</text>\n",
       "<text text-anchor=\"middle\" x=\"337\" y=\"-223.3\" font-family=\"Times,serif\" font-size=\"14.00\">samples = 1</text>\n",
       "<text text-anchor=\"middle\" x=\"337\" y=\"-208.3\" font-family=\"Times,serif\" font-size=\"14.00\">value = [0, 1]</text>\n",
       "</g>\n",
       "<!-- 13&#45;&gt;14 -->\n",
       "<g id=\"edge14\" class=\"edge\">\n",
       "<title>13&#45;&gt;14</title>\n",
       "<path fill=\"none\" stroke=\"black\" d=\"M375.49,-296.88C369.35,-285.89 362.49,-273.62 356.29,-262.52\"/>\n",
       "<polygon fill=\"black\" stroke=\"black\" points=\"359.19,-260.54 351.26,-253.52 353.08,-263.96 359.19,-260.54\"/>\n",
       "</g>\n",
       "<!-- 15 -->\n",
       "<g id=\"node16\" class=\"node\">\n",
       "<title>15</title>\n",
       "<polygon fill=\"none\" stroke=\"black\" points=\"493,-253.5 401,-253.5 401,-200.5 493,-200.5 493,-253.5\"/>\n",
       "<text text-anchor=\"middle\" x=\"447\" y=\"-238.3\" font-family=\"Times,serif\" font-size=\"14.00\">gini = 0.0</text>\n",
       "<text text-anchor=\"middle\" x=\"447\" y=\"-223.3\" font-family=\"Times,serif\" font-size=\"14.00\">samples = 5</text>\n",
       "<text text-anchor=\"middle\" x=\"447\" y=\"-208.3\" font-family=\"Times,serif\" font-size=\"14.00\">value = [5, 0]</text>\n",
       "</g>\n",
       "<!-- 13&#45;&gt;15 -->\n",
       "<g id=\"edge15\" class=\"edge\">\n",
       "<title>13&#45;&gt;15</title>\n",
       "<path fill=\"none\" stroke=\"black\" d=\"M411.21,-296.88C416.92,-285.89 423.3,-273.62 429.06,-262.52\"/>\n",
       "<polygon fill=\"black\" stroke=\"black\" points=\"432.23,-264.01 433.74,-253.52 426.02,-260.78 432.23,-264.01\"/>\n",
       "</g>\n",
       "<!-- 17 -->\n",
       "<g id=\"node18\" class=\"node\">\n",
       "<title>17</title>\n",
       "<polygon fill=\"none\" stroke=\"black\" points=\"442,-461.5 350,-461.5 350,-408.5 442,-408.5 442,-461.5\"/>\n",
       "<text text-anchor=\"middle\" x=\"396\" y=\"-446.3\" font-family=\"Times,serif\" font-size=\"14.00\">gini = 0.0</text>\n",
       "<text text-anchor=\"middle\" x=\"396\" y=\"-431.3\" font-family=\"Times,serif\" font-size=\"14.00\">samples = 1</text>\n",
       "<text text-anchor=\"middle\" x=\"396\" y=\"-416.3\" font-family=\"Times,serif\" font-size=\"14.00\">value = [0, 1]</text>\n",
       "</g>\n",
       "<!-- 16&#45;&gt;17 -->\n",
       "<g id=\"edge17\" class=\"edge\">\n",
       "<title>16&#45;&gt;17</title>\n",
       "<path fill=\"none\" stroke=\"black\" d=\"M396,-504.88C396,-494.33 396,-482.6 396,-471.85\"/>\n",
       "<polygon fill=\"black\" stroke=\"black\" points=\"399.5,-471.52 396,-461.52 392.5,-471.52 399.5,-471.52\"/>\n",
       "</g>\n",
       "<!-- 18 -->\n",
       "<g id=\"node19\" class=\"node\">\n",
       "<title>18</title>\n",
       "<polygon fill=\"none\" stroke=\"black\" points=\"557.5,-469 460.5,-469 460.5,-401 557.5,-401 557.5,-469\"/>\n",
       "<text text-anchor=\"middle\" x=\"509\" y=\"-453.8\" font-family=\"Times,serif\" font-size=\"14.00\">X[1] &lt;= 0.177</text>\n",
       "<text text-anchor=\"middle\" x=\"509\" y=\"-438.8\" font-family=\"Times,serif\" font-size=\"14.00\">gini = 0.397</text>\n",
       "<text text-anchor=\"middle\" x=\"509\" y=\"-423.8\" font-family=\"Times,serif\" font-size=\"14.00\">samples = 11</text>\n",
       "<text text-anchor=\"middle\" x=\"509\" y=\"-408.8\" font-family=\"Times,serif\" font-size=\"14.00\">value = [8, 3]</text>\n",
       "</g>\n",
       "<!-- 16&#45;&gt;18 -->\n",
       "<g id=\"edge18\" class=\"edge\">\n",
       "<title>16&#45;&gt;18</title>\n",
       "<path fill=\"none\" stroke=\"black\" d=\"M432.69,-504.88C442.85,-495.71 454,-485.65 464.55,-476.12\"/>\n",
       "<polygon fill=\"black\" stroke=\"black\" points=\"467.03,-478.6 472.11,-469.3 462.34,-473.4 467.03,-478.6\"/>\n",
       "</g>\n",
       "<!-- 19 -->\n",
       "<g id=\"node20\" class=\"node\">\n",
       "<title>19</title>\n",
       "<polygon fill=\"none\" stroke=\"black\" points=\"555,-357.5 463,-357.5 463,-304.5 555,-304.5 555,-357.5\"/>\n",
       "<text text-anchor=\"middle\" x=\"509\" y=\"-342.3\" font-family=\"Times,serif\" font-size=\"14.00\">gini = 0.0</text>\n",
       "<text text-anchor=\"middle\" x=\"509\" y=\"-327.3\" font-family=\"Times,serif\" font-size=\"14.00\">samples = 5</text>\n",
       "<text text-anchor=\"middle\" x=\"509\" y=\"-312.3\" font-family=\"Times,serif\" font-size=\"14.00\">value = [5, 0]</text>\n",
       "</g>\n",
       "<!-- 18&#45;&gt;19 -->\n",
       "<g id=\"edge19\" class=\"edge\">\n",
       "<title>18&#45;&gt;19</title>\n",
       "<path fill=\"none\" stroke=\"black\" d=\"M509,-400.88C509,-390.33 509,-378.6 509,-367.85\"/>\n",
       "<polygon fill=\"black\" stroke=\"black\" points=\"512.5,-367.52 509,-357.52 505.5,-367.52 512.5,-367.52\"/>\n",
       "</g>\n",
       "<!-- 20 -->\n",
       "<g id=\"node21\" class=\"node\">\n",
       "<title>20</title>\n",
       "<polygon fill=\"none\" stroke=\"black\" points=\"665,-365 573,-365 573,-297 665,-297 665,-365\"/>\n",
       "<text text-anchor=\"middle\" x=\"619\" y=\"-349.8\" font-family=\"Times,serif\" font-size=\"14.00\">X[0] &lt;= 1.5</text>\n",
       "<text text-anchor=\"middle\" x=\"619\" y=\"-334.8\" font-family=\"Times,serif\" font-size=\"14.00\">gini = 0.5</text>\n",
       "<text text-anchor=\"middle\" x=\"619\" y=\"-319.8\" font-family=\"Times,serif\" font-size=\"14.00\">samples = 6</text>\n",
       "<text text-anchor=\"middle\" x=\"619\" y=\"-304.8\" font-family=\"Times,serif\" font-size=\"14.00\">value = [3, 3]</text>\n",
       "</g>\n",
       "<!-- 18&#45;&gt;20 -->\n",
       "<g id=\"edge20\" class=\"edge\">\n",
       "<title>18&#45;&gt;20</title>\n",
       "<path fill=\"none\" stroke=\"black\" d=\"M544.71,-400.88C554.61,-391.71 565.46,-381.65 575.73,-372.12\"/>\n",
       "<polygon fill=\"black\" stroke=\"black\" points=\"578.14,-374.67 583.09,-365.3 573.38,-369.53 578.14,-374.67\"/>\n",
       "</g>\n",
       "<!-- 21 -->\n",
       "<g id=\"node22\" class=\"node\">\n",
       "<title>21</title>\n",
       "<polygon fill=\"none\" stroke=\"black\" points=\"607,-253.5 515,-253.5 515,-200.5 607,-200.5 607,-253.5\"/>\n",
       "<text text-anchor=\"middle\" x=\"561\" y=\"-238.3\" font-family=\"Times,serif\" font-size=\"14.00\">gini = 0.0</text>\n",
       "<text text-anchor=\"middle\" x=\"561\" y=\"-223.3\" font-family=\"Times,serif\" font-size=\"14.00\">samples = 1</text>\n",
       "<text text-anchor=\"middle\" x=\"561\" y=\"-208.3\" font-family=\"Times,serif\" font-size=\"14.00\">value = [0, 1]</text>\n",
       "</g>\n",
       "<!-- 20&#45;&gt;21 -->\n",
       "<g id=\"edge21\" class=\"edge\">\n",
       "<title>20&#45;&gt;21</title>\n",
       "<path fill=\"none\" stroke=\"black\" d=\"M600.17,-296.88C593.92,-285.89 586.94,-273.62 580.63,-262.52\"/>\n",
       "<polygon fill=\"black\" stroke=\"black\" points=\"583.5,-260.48 575.51,-253.52 577.41,-263.94 583.5,-260.48\"/>\n",
       "</g>\n",
       "<!-- 22 -->\n",
       "<g id=\"node23\" class=\"node\">\n",
       "<title>22</title>\n",
       "<polygon fill=\"none\" stroke=\"black\" points=\"722.5,-261 625.5,-261 625.5,-193 722.5,-193 722.5,-261\"/>\n",
       "<text text-anchor=\"middle\" x=\"674\" y=\"-245.8\" font-family=\"Times,serif\" font-size=\"14.00\">X[1] &lt;= 0.459</text>\n",
       "<text text-anchor=\"middle\" x=\"674\" y=\"-230.8\" font-family=\"Times,serif\" font-size=\"14.00\">gini = 0.48</text>\n",
       "<text text-anchor=\"middle\" x=\"674\" y=\"-215.8\" font-family=\"Times,serif\" font-size=\"14.00\">samples = 5</text>\n",
       "<text text-anchor=\"middle\" x=\"674\" y=\"-200.8\" font-family=\"Times,serif\" font-size=\"14.00\">value = [3, 2]</text>\n",
       "</g>\n",
       "<!-- 20&#45;&gt;22 -->\n",
       "<g id=\"edge22\" class=\"edge\">\n",
       "<title>20&#45;&gt;22</title>\n",
       "<path fill=\"none\" stroke=\"black\" d=\"M636.86,-296.88C641.42,-288.42 646.39,-279.21 651.16,-270.35\"/>\n",
       "<polygon fill=\"black\" stroke=\"black\" points=\"654.38,-271.76 656.04,-261.3 648.22,-268.44 654.38,-271.76\"/>\n",
       "</g>\n",
       "<!-- 23 -->\n",
       "<g id=\"node24\" class=\"node\">\n",
       "<title>23</title>\n",
       "<polygon fill=\"none\" stroke=\"black\" points=\"663,-149.5 571,-149.5 571,-96.5 663,-96.5 663,-149.5\"/>\n",
       "<text text-anchor=\"middle\" x=\"617\" y=\"-134.3\" font-family=\"Times,serif\" font-size=\"14.00\">gini = 0.0</text>\n",
       "<text text-anchor=\"middle\" x=\"617\" y=\"-119.3\" font-family=\"Times,serif\" font-size=\"14.00\">samples = 1</text>\n",
       "<text text-anchor=\"middle\" x=\"617\" y=\"-104.3\" font-family=\"Times,serif\" font-size=\"14.00\">value = [0, 1]</text>\n",
       "</g>\n",
       "<!-- 22&#45;&gt;23 -->\n",
       "<g id=\"edge23\" class=\"edge\">\n",
       "<title>22&#45;&gt;23</title>\n",
       "<path fill=\"none\" stroke=\"black\" d=\"M655.49,-192.88C649.35,-181.89 642.49,-169.62 636.29,-158.52\"/>\n",
       "<polygon fill=\"black\" stroke=\"black\" points=\"639.19,-156.54 631.26,-149.52 633.08,-159.96 639.19,-156.54\"/>\n",
       "</g>\n",
       "<!-- 24 -->\n",
       "<g id=\"node25\" class=\"node\">\n",
       "<title>24</title>\n",
       "<polygon fill=\"none\" stroke=\"black\" points=\"778.5,-157 681.5,-157 681.5,-89 778.5,-89 778.5,-157\"/>\n",
       "<text text-anchor=\"middle\" x=\"730\" y=\"-141.8\" font-family=\"Times,serif\" font-size=\"14.00\">X[0] &lt;= 1.708</text>\n",
       "<text text-anchor=\"middle\" x=\"730\" y=\"-126.8\" font-family=\"Times,serif\" font-size=\"14.00\">gini = 0.375</text>\n",
       "<text text-anchor=\"middle\" x=\"730\" y=\"-111.8\" font-family=\"Times,serif\" font-size=\"14.00\">samples = 4</text>\n",
       "<text text-anchor=\"middle\" x=\"730\" y=\"-96.8\" font-family=\"Times,serif\" font-size=\"14.00\">value = [3, 1]</text>\n",
       "</g>\n",
       "<!-- 22&#45;&gt;24 -->\n",
       "<g id=\"edge24\" class=\"edge\">\n",
       "<title>22&#45;&gt;24</title>\n",
       "<path fill=\"none\" stroke=\"black\" d=\"M692.18,-192.88C696.88,-184.33 701.99,-175.01 706.9,-166.07\"/>\n",
       "<polygon fill=\"black\" stroke=\"black\" points=\"709.97,-167.75 711.72,-157.3 703.84,-164.38 709.97,-167.75\"/>\n",
       "</g>\n",
       "<!-- 25 -->\n",
       "<g id=\"node26\" class=\"node\">\n",
       "<title>25</title>\n",
       "<polygon fill=\"none\" stroke=\"black\" points=\"721,-53 629,-53 629,0 721,0 721,-53\"/>\n",
       "<text text-anchor=\"middle\" x=\"675\" y=\"-37.8\" font-family=\"Times,serif\" font-size=\"14.00\">gini = 0.5</text>\n",
       "<text text-anchor=\"middle\" x=\"675\" y=\"-22.8\" font-family=\"Times,serif\" font-size=\"14.00\">samples = 2</text>\n",
       "<text text-anchor=\"middle\" x=\"675\" y=\"-7.8\" font-family=\"Times,serif\" font-size=\"14.00\">value = [1, 1]</text>\n",
       "</g>\n",
       "<!-- 24&#45;&gt;25 -->\n",
       "<g id=\"edge25\" class=\"edge\">\n",
       "<title>24&#45;&gt;25</title>\n",
       "<path fill=\"none\" stroke=\"black\" d=\"M710.76,-88.95C705.71,-80.26 700.24,-70.86 695.13,-62.09\"/>\n",
       "<polygon fill=\"black\" stroke=\"black\" points=\"698.03,-60.12 689.98,-53.24 691.98,-63.64 698.03,-60.12\"/>\n",
       "</g>\n",
       "<!-- 26 -->\n",
       "<g id=\"node27\" class=\"node\">\n",
       "<title>26</title>\n",
       "<polygon fill=\"none\" stroke=\"black\" points=\"831,-53 739,-53 739,0 831,0 831,-53\"/>\n",
       "<text text-anchor=\"middle\" x=\"785\" y=\"-37.8\" font-family=\"Times,serif\" font-size=\"14.00\">gini = 0.0</text>\n",
       "<text text-anchor=\"middle\" x=\"785\" y=\"-22.8\" font-family=\"Times,serif\" font-size=\"14.00\">samples = 2</text>\n",
       "<text text-anchor=\"middle\" x=\"785\" y=\"-7.8\" font-family=\"Times,serif\" font-size=\"14.00\">value = [2, 0]</text>\n",
       "</g>\n",
       "<!-- 24&#45;&gt;26 -->\n",
       "<g id=\"edge26\" class=\"edge\">\n",
       "<title>24&#45;&gt;26</title>\n",
       "<path fill=\"none\" stroke=\"black\" d=\"M749.24,-88.95C754.29,-80.26 759.76,-70.86 764.87,-62.09\"/>\n",
       "<polygon fill=\"black\" stroke=\"black\" points=\"768.02,-63.64 770.02,-53.24 761.97,-60.12 768.02,-63.64\"/>\n",
       "</g>\n",
       "<!-- 28 -->\n",
       "<g id=\"node29\" class=\"node\">\n",
       "<title>28</title>\n",
       "<polygon fill=\"none\" stroke=\"black\" points=\"561,-565.5 463,-565.5 463,-512.5 561,-512.5 561,-565.5\"/>\n",
       "<text text-anchor=\"middle\" x=\"512\" y=\"-550.3\" font-family=\"Times,serif\" font-size=\"14.00\">gini = 0.0</text>\n",
       "<text text-anchor=\"middle\" x=\"512\" y=\"-535.3\" font-family=\"Times,serif\" font-size=\"14.00\">samples = 43</text>\n",
       "<text text-anchor=\"middle\" x=\"512\" y=\"-520.3\" font-family=\"Times,serif\" font-size=\"14.00\">value = [0, 43]</text>\n",
       "</g>\n",
       "<!-- 27&#45;&gt;28 -->\n",
       "<g id=\"edge28\" class=\"edge\">\n",
       "<title>27&#45;&gt;28</title>\n",
       "<path fill=\"none\" stroke=\"black\" d=\"M546.44,-608.88C540.94,-597.89 534.81,-585.62 529.26,-574.52\"/>\n",
       "<polygon fill=\"black\" stroke=\"black\" points=\"532.36,-572.9 524.76,-565.52 526.1,-576.03 532.36,-572.9\"/>\n",
       "</g>\n",
       "<!-- 29 -->\n",
       "<g id=\"node30\" class=\"node\">\n",
       "<title>29</title>\n",
       "<polygon fill=\"none\" stroke=\"black\" points=\"671,-565.5 579,-565.5 579,-512.5 671,-512.5 671,-565.5\"/>\n",
       "<text text-anchor=\"middle\" x=\"625\" y=\"-550.3\" font-family=\"Times,serif\" font-size=\"14.00\">gini = 0.0</text>\n",
       "<text text-anchor=\"middle\" x=\"625\" y=\"-535.3\" font-family=\"Times,serif\" font-size=\"14.00\">samples = 2</text>\n",
       "<text text-anchor=\"middle\" x=\"625\" y=\"-520.3\" font-family=\"Times,serif\" font-size=\"14.00\">value = [2, 0]</text>\n",
       "</g>\n",
       "<!-- 27&#45;&gt;29 -->\n",
       "<g id=\"edge29\" class=\"edge\">\n",
       "<title>27&#45;&gt;29</title>\n",
       "<path fill=\"none\" stroke=\"black\" d=\"M583.13,-608.88C589.88,-597.78 597.42,-585.37 604.22,-574.18\"/>\n",
       "<polygon fill=\"black\" stroke=\"black\" points=\"607.28,-575.88 609.49,-565.52 601.3,-572.25 607.28,-575.88\"/>\n",
       "</g>\n",
       "<!-- 31 -->\n",
       "<g id=\"node32\" class=\"node\">\n",
       "<title>31</title>\n",
       "<polygon fill=\"none\" stroke=\"black\" points=\"787,-677 689,-677 689,-609 787,-609 787,-677\"/>\n",
       "<text text-anchor=\"middle\" x=\"738\" y=\"-661.8\" font-family=\"Times,serif\" font-size=\"14.00\">X[1] &lt;= 2.027</text>\n",
       "<text text-anchor=\"middle\" x=\"738\" y=\"-646.8\" font-family=\"Times,serif\" font-size=\"14.00\">gini = 0.044</text>\n",
       "<text text-anchor=\"middle\" x=\"738\" y=\"-631.8\" font-family=\"Times,serif\" font-size=\"14.00\">samples = 89</text>\n",
       "<text text-anchor=\"middle\" x=\"738\" y=\"-616.8\" font-family=\"Times,serif\" font-size=\"14.00\">value = [2, 87]</text>\n",
       "</g>\n",
       "<!-- 30&#45;&gt;31 -->\n",
       "<g id=\"edge31\" class=\"edge\">\n",
       "<title>30&#45;&gt;31</title>\n",
       "<path fill=\"none\" stroke=\"black\" d=\"M738,-712.88C738,-704.78 738,-695.98 738,-687.47\"/>\n",
       "<polygon fill=\"black\" stroke=\"black\" points=\"741.5,-687.3 738,-677.3 734.5,-687.3 741.5,-687.3\"/>\n",
       "</g>\n",
       "<!-- 40 -->\n",
       "<g id=\"node41\" class=\"node\">\n",
       "<title>40</title>\n",
       "<polygon fill=\"none\" stroke=\"black\" points=\"903,-669.5 805,-669.5 805,-616.5 903,-616.5 903,-669.5\"/>\n",
       "<text text-anchor=\"middle\" x=\"854\" y=\"-654.3\" font-family=\"Times,serif\" font-size=\"14.00\">gini = 0.0</text>\n",
       "<text text-anchor=\"middle\" x=\"854\" y=\"-639.3\" font-family=\"Times,serif\" font-size=\"14.00\">samples = 51</text>\n",
       "<text text-anchor=\"middle\" x=\"854\" y=\"-624.3\" font-family=\"Times,serif\" font-size=\"14.00\">value = [51, 0]</text>\n",
       "</g>\n",
       "<!-- 30&#45;&gt;40 -->\n",
       "<g id=\"edge40\" class=\"edge\">\n",
       "<title>30&#45;&gt;40</title>\n",
       "<path fill=\"none\" stroke=\"black\" d=\"M775.66,-712.88C789.04,-701.12 804.08,-687.89 817.38,-676.2\"/>\n",
       "<polygon fill=\"black\" stroke=\"black\" points=\"819.78,-678.75 824.98,-669.52 815.16,-673.49 819.78,-678.75\"/>\n",
       "</g>\n",
       "<!-- 32 -->\n",
       "<g id=\"node33\" class=\"node\">\n",
       "<title>32</title>\n",
       "<polygon fill=\"none\" stroke=\"black\" points=\"786.5,-573 689.5,-573 689.5,-505 786.5,-505 786.5,-573\"/>\n",
       "<text text-anchor=\"middle\" x=\"738\" y=\"-557.8\" font-family=\"Times,serif\" font-size=\"14.00\">X[0] &lt;= 0.791</text>\n",
       "<text text-anchor=\"middle\" x=\"738\" y=\"-542.8\" font-family=\"Times,serif\" font-size=\"14.00\">gini = 0.298</text>\n",
       "<text text-anchor=\"middle\" x=\"738\" y=\"-527.8\" font-family=\"Times,serif\" font-size=\"14.00\">samples = 11</text>\n",
       "<text text-anchor=\"middle\" x=\"738\" y=\"-512.8\" font-family=\"Times,serif\" font-size=\"14.00\">value = [2, 9]</text>\n",
       "</g>\n",
       "<!-- 31&#45;&gt;32 -->\n",
       "<g id=\"edge32\" class=\"edge\">\n",
       "<title>31&#45;&gt;32</title>\n",
       "<path fill=\"none\" stroke=\"black\" d=\"M738,-608.88C738,-600.78 738,-591.98 738,-583.47\"/>\n",
       "<polygon fill=\"black\" stroke=\"black\" points=\"741.5,-583.3 738,-573.3 734.5,-583.3 741.5,-583.3\"/>\n",
       "</g>\n",
       "<!-- 39 -->\n",
       "<g id=\"node40\" class=\"node\">\n",
       "<title>39</title>\n",
       "<polygon fill=\"none\" stroke=\"black\" points=\"903,-565.5 805,-565.5 805,-512.5 903,-512.5 903,-565.5\"/>\n",
       "<text text-anchor=\"middle\" x=\"854\" y=\"-550.3\" font-family=\"Times,serif\" font-size=\"14.00\">gini = 0.0</text>\n",
       "<text text-anchor=\"middle\" x=\"854\" y=\"-535.3\" font-family=\"Times,serif\" font-size=\"14.00\">samples = 78</text>\n",
       "<text text-anchor=\"middle\" x=\"854\" y=\"-520.3\" font-family=\"Times,serif\" font-size=\"14.00\">value = [0, 78]</text>\n",
       "</g>\n",
       "<!-- 31&#45;&gt;39 -->\n",
       "<g id=\"edge39\" class=\"edge\">\n",
       "<title>31&#45;&gt;39</title>\n",
       "<path fill=\"none\" stroke=\"black\" d=\"M775.66,-608.88C789.04,-597.12 804.08,-583.89 817.38,-572.2\"/>\n",
       "<polygon fill=\"black\" stroke=\"black\" points=\"819.78,-574.75 824.98,-565.52 815.16,-569.49 819.78,-574.75\"/>\n",
       "</g>\n",
       "<!-- 33 -->\n",
       "<g id=\"node34\" class=\"node\">\n",
       "<title>33</title>\n",
       "<polygon fill=\"none\" stroke=\"black\" points=\"783.5,-469 686.5,-469 686.5,-401 783.5,-401 783.5,-469\"/>\n",
       "<text text-anchor=\"middle\" x=\"735\" y=\"-453.8\" font-family=\"Times,serif\" font-size=\"14.00\">X[0] &lt;= 0.043</text>\n",
       "<text text-anchor=\"middle\" x=\"735\" y=\"-438.8\" font-family=\"Times,serif\" font-size=\"14.00\">gini = 0.18</text>\n",
       "<text text-anchor=\"middle\" x=\"735\" y=\"-423.8\" font-family=\"Times,serif\" font-size=\"14.00\">samples = 10</text>\n",
       "<text text-anchor=\"middle\" x=\"735\" y=\"-408.8\" font-family=\"Times,serif\" font-size=\"14.00\">value = [1, 9]</text>\n",
       "</g>\n",
       "<!-- 32&#45;&gt;33 -->\n",
       "<g id=\"edge33\" class=\"edge\">\n",
       "<title>32&#45;&gt;33</title>\n",
       "<path fill=\"none\" stroke=\"black\" d=\"M737.03,-504.88C736.79,-496.78 736.53,-487.98 736.28,-479.47\"/>\n",
       "<polygon fill=\"black\" stroke=\"black\" points=\"739.77,-479.19 735.98,-469.3 732.77,-479.4 739.77,-479.19\"/>\n",
       "</g>\n",
       "<!-- 38 -->\n",
       "<g id=\"node39\" class=\"node\">\n",
       "<title>38</title>\n",
       "<polygon fill=\"none\" stroke=\"black\" points=\"894,-461.5 802,-461.5 802,-408.5 894,-408.5 894,-461.5\"/>\n",
       "<text text-anchor=\"middle\" x=\"848\" y=\"-446.3\" font-family=\"Times,serif\" font-size=\"14.00\">gini = 0.0</text>\n",
       "<text text-anchor=\"middle\" x=\"848\" y=\"-431.3\" font-family=\"Times,serif\" font-size=\"14.00\">samples = 1</text>\n",
       "<text text-anchor=\"middle\" x=\"848\" y=\"-416.3\" font-family=\"Times,serif\" font-size=\"14.00\">value = [1, 0]</text>\n",
       "</g>\n",
       "<!-- 32&#45;&gt;38 -->\n",
       "<g id=\"edge38\" class=\"edge\">\n",
       "<title>32&#45;&gt;38</title>\n",
       "<path fill=\"none\" stroke=\"black\" d=\"M773.71,-504.88C786.29,-493.23 800.4,-480.14 812.92,-468.53\"/>\n",
       "<polygon fill=\"black\" stroke=\"black\" points=\"815.53,-470.89 820.48,-461.52 810.77,-465.75 815.53,-470.89\"/>\n",
       "</g>\n",
       "<!-- 34 -->\n",
       "<g id=\"node35\" class=\"node\">\n",
       "<title>34</title>\n",
       "<polygon fill=\"none\" stroke=\"black\" points=\"778,-357.5 686,-357.5 686,-304.5 778,-304.5 778,-357.5\"/>\n",
       "<text text-anchor=\"middle\" x=\"732\" y=\"-342.3\" font-family=\"Times,serif\" font-size=\"14.00\">gini = 0.0</text>\n",
       "<text text-anchor=\"middle\" x=\"732\" y=\"-327.3\" font-family=\"Times,serif\" font-size=\"14.00\">samples = 7</text>\n",
       "<text text-anchor=\"middle\" x=\"732\" y=\"-312.3\" font-family=\"Times,serif\" font-size=\"14.00\">value = [0, 7]</text>\n",
       "</g>\n",
       "<!-- 33&#45;&gt;34 -->\n",
       "<g id=\"edge34\" class=\"edge\">\n",
       "<title>33&#45;&gt;34</title>\n",
       "<path fill=\"none\" stroke=\"black\" d=\"M734.03,-400.88C733.71,-390.22 733.36,-378.35 733.04,-367.52\"/>\n",
       "<polygon fill=\"black\" stroke=\"black\" points=\"736.54,-367.41 732.75,-357.52 729.55,-367.62 736.54,-367.41\"/>\n",
       "</g>\n",
       "<!-- 35 -->\n",
       "<g id=\"node36\" class=\"node\">\n",
       "<title>35</title>\n",
       "<polygon fill=\"none\" stroke=\"black\" points=\"893.5,-365 796.5,-365 796.5,-297 893.5,-297 893.5,-365\"/>\n",
       "<text text-anchor=\"middle\" x=\"845\" y=\"-349.8\" font-family=\"Times,serif\" font-size=\"14.00\">X[0] &lt;= 0.194</text>\n",
       "<text text-anchor=\"middle\" x=\"845\" y=\"-334.8\" font-family=\"Times,serif\" font-size=\"14.00\">gini = 0.444</text>\n",
       "<text text-anchor=\"middle\" x=\"845\" y=\"-319.8\" font-family=\"Times,serif\" font-size=\"14.00\">samples = 3</text>\n",
       "<text text-anchor=\"middle\" x=\"845\" y=\"-304.8\" font-family=\"Times,serif\" font-size=\"14.00\">value = [1, 2]</text>\n",
       "</g>\n",
       "<!-- 33&#45;&gt;35 -->\n",
       "<g id=\"edge35\" class=\"edge\">\n",
       "<title>33&#45;&gt;35</title>\n",
       "<path fill=\"none\" stroke=\"black\" d=\"M770.71,-400.88C780.61,-391.71 791.46,-381.65 801.73,-372.12\"/>\n",
       "<polygon fill=\"black\" stroke=\"black\" points=\"804.14,-374.67 809.09,-365.3 799.38,-369.53 804.14,-374.67\"/>\n",
       "</g>\n",
       "<!-- 36 -->\n",
       "<g id=\"node37\" class=\"node\">\n",
       "<title>36</title>\n",
       "<polygon fill=\"none\" stroke=\"black\" points=\"838,-253.5 746,-253.5 746,-200.5 838,-200.5 838,-253.5\"/>\n",
       "<text text-anchor=\"middle\" x=\"792\" y=\"-238.3\" font-family=\"Times,serif\" font-size=\"14.00\">gini = 0.0</text>\n",
       "<text text-anchor=\"middle\" x=\"792\" y=\"-223.3\" font-family=\"Times,serif\" font-size=\"14.00\">samples = 1</text>\n",
       "<text text-anchor=\"middle\" x=\"792\" y=\"-208.3\" font-family=\"Times,serif\" font-size=\"14.00\">value = [1, 0]</text>\n",
       "</g>\n",
       "<!-- 35&#45;&gt;36 -->\n",
       "<g id=\"edge36\" class=\"edge\">\n",
       "<title>35&#45;&gt;36</title>\n",
       "<path fill=\"none\" stroke=\"black\" d=\"M827.79,-296.88C822.08,-285.89 815.7,-273.62 809.94,-262.52\"/>\n",
       "<polygon fill=\"black\" stroke=\"black\" points=\"812.98,-260.78 805.26,-253.52 806.77,-264.01 812.98,-260.78\"/>\n",
       "</g>\n",
       "<!-- 37 -->\n",
       "<g id=\"node38\" class=\"node\">\n",
       "<title>37</title>\n",
       "<polygon fill=\"none\" stroke=\"black\" points=\"948,-253.5 856,-253.5 856,-200.5 948,-200.5 948,-253.5\"/>\n",
       "<text text-anchor=\"middle\" x=\"902\" y=\"-238.3\" font-family=\"Times,serif\" font-size=\"14.00\">gini = 0.0</text>\n",
       "<text text-anchor=\"middle\" x=\"902\" y=\"-223.3\" font-family=\"Times,serif\" font-size=\"14.00\">samples = 2</text>\n",
       "<text text-anchor=\"middle\" x=\"902\" y=\"-208.3\" font-family=\"Times,serif\" font-size=\"14.00\">value = [0, 2]</text>\n",
       "</g>\n",
       "<!-- 35&#45;&gt;37 -->\n",
       "<g id=\"edge37\" class=\"edge\">\n",
       "<title>35&#45;&gt;37</title>\n",
       "<path fill=\"none\" stroke=\"black\" d=\"M863.51,-296.88C869.65,-285.89 876.51,-273.62 882.71,-262.52\"/>\n",
       "<polygon fill=\"black\" stroke=\"black\" points=\"885.92,-263.96 887.74,-253.52 879.81,-260.54 885.92,-263.96\"/>\n",
       "</g>\n",
       "<!-- 42 -->\n",
       "<g id=\"node43\" class=\"node\">\n",
       "<title>42</title>\n",
       "<polygon fill=\"none\" stroke=\"black\" points=\"912,-773.5 814,-773.5 814,-720.5 912,-720.5 912,-773.5\"/>\n",
       "<text text-anchor=\"middle\" x=\"863\" y=\"-758.3\" font-family=\"Times,serif\" font-size=\"14.00\">gini = 0.0</text>\n",
       "<text text-anchor=\"middle\" x=\"863\" y=\"-743.3\" font-family=\"Times,serif\" font-size=\"14.00\">samples = 55</text>\n",
       "<text text-anchor=\"middle\" x=\"863\" y=\"-728.3\" font-family=\"Times,serif\" font-size=\"14.00\">value = [0, 55]</text>\n",
       "</g>\n",
       "<!-- 41&#45;&gt;42 -->\n",
       "<g id=\"edge42\" class=\"edge\">\n",
       "<title>41&#45;&gt;42</title>\n",
       "<path fill=\"none\" stroke=\"black\" d=\"M864.35,-816.88C864.14,-806.22 863.91,-794.35 863.7,-783.52\"/>\n",
       "<polygon fill=\"black\" stroke=\"black\" points=\"867.2,-783.45 863.5,-773.52 860.2,-783.59 867.2,-783.45\"/>\n",
       "</g>\n",
       "<!-- 43 -->\n",
       "<g id=\"node44\" class=\"node\">\n",
       "<title>43</title>\n",
       "<polygon fill=\"none\" stroke=\"black\" points=\"1028,-773.5 930,-773.5 930,-720.5 1028,-720.5 1028,-773.5\"/>\n",
       "<text text-anchor=\"middle\" x=\"979\" y=\"-758.3\" font-family=\"Times,serif\" font-size=\"14.00\">gini = 0.0</text>\n",
       "<text text-anchor=\"middle\" x=\"979\" y=\"-743.3\" font-family=\"Times,serif\" font-size=\"14.00\">samples = 41</text>\n",
       "<text text-anchor=\"middle\" x=\"979\" y=\"-728.3\" font-family=\"Times,serif\" font-size=\"14.00\">value = [41, 0]</text>\n",
       "</g>\n",
       "<!-- 41&#45;&gt;43 -->\n",
       "<g id=\"edge43\" class=\"edge\">\n",
       "<title>41&#45;&gt;43</title>\n",
       "<path fill=\"none\" stroke=\"black\" d=\"M902.01,-816.88C915.16,-805.12 929.94,-791.89 943.01,-780.2\"/>\n",
       "<polygon fill=\"black\" stroke=\"black\" points=\"945.36,-782.8 950.48,-773.52 940.69,-777.58 945.36,-782.8\"/>\n",
       "</g>\n",
       "<!-- 45 -->\n",
       "<g id=\"node46\" class=\"node\">\n",
       "<title>45</title>\n",
       "<polygon fill=\"none\" stroke=\"black\" points=\"1032,-877.5 940,-877.5 940,-824.5 1032,-824.5 1032,-877.5\"/>\n",
       "<text text-anchor=\"middle\" x=\"986\" y=\"-862.3\" font-family=\"Times,serif\" font-size=\"14.00\">gini = 0.0</text>\n",
       "<text text-anchor=\"middle\" x=\"986\" y=\"-847.3\" font-family=\"Times,serif\" font-size=\"14.00\">samples = 1</text>\n",
       "<text text-anchor=\"middle\" x=\"986\" y=\"-832.3\" font-family=\"Times,serif\" font-size=\"14.00\">value = [0, 1]</text>\n",
       "</g>\n",
       "<!-- 44&#45;&gt;45 -->\n",
       "<g id=\"edge45\" class=\"edge\">\n",
       "<title>44&#45;&gt;45</title>\n",
       "<path fill=\"none\" stroke=\"black\" d=\"M987.35,-920.88C987.14,-910.22 986.91,-898.35 986.7,-887.52\"/>\n",
       "<polygon fill=\"black\" stroke=\"black\" points=\"990.2,-887.45 986.5,-877.52 983.2,-887.59 990.2,-887.45\"/>\n",
       "</g>\n",
       "<!-- 46 -->\n",
       "<g id=\"node47\" class=\"node\">\n",
       "<title>46</title>\n",
       "<polygon fill=\"none\" stroke=\"black\" points=\"1142,-877.5 1050,-877.5 1050,-824.5 1142,-824.5 1142,-877.5\"/>\n",
       "<text text-anchor=\"middle\" x=\"1096\" y=\"-862.3\" font-family=\"Times,serif\" font-size=\"14.00\">gini = 0.0</text>\n",
       "<text text-anchor=\"middle\" x=\"1096\" y=\"-847.3\" font-family=\"Times,serif\" font-size=\"14.00\">samples = 9</text>\n",
       "<text text-anchor=\"middle\" x=\"1096\" y=\"-832.3\" font-family=\"Times,serif\" font-size=\"14.00\">value = [9, 0]</text>\n",
       "</g>\n",
       "<!-- 44&#45;&gt;46 -->\n",
       "<g id=\"edge46\" class=\"edge\">\n",
       "<title>44&#45;&gt;46</title>\n",
       "<path fill=\"none\" stroke=\"black\" d=\"M1023.06,-920.88C1035.41,-909.23 1049.26,-896.14 1061.55,-884.53\"/>\n",
       "<polygon fill=\"black\" stroke=\"black\" points=\"1064.11,-886.93 1068.98,-877.52 1059.31,-881.84 1064.11,-886.93\"/>\n",
       "</g>\n",
       "</g>\n",
       "</svg>\n"
      ],
      "text/plain": [
       "<graphviz.files.Source at 0x7fe43ac79d00>"
      ]
     },
     "execution_count": 15,
     "metadata": {},
     "output_type": "execute_result"
    }
   ],
   "source": [
    "show_tree(clf)"
   ]
  },
  {
   "cell_type": "markdown",
   "metadata": {},
   "source": [
    "Let's visualize the decision boundary:"
   ]
  },
  {
   "cell_type": "code",
   "execution_count": 16,
   "metadata": {},
   "outputs": [],
   "source": [
    "def show_decision_boundary(clf):  \n",
    "    delta = 0.01\n",
    "    x     = np.arange(-2.0, 5.001, delta)\n",
    "    y     = np.arange(-2.0, 5.001, delta)\n",
    "\n",
    "    X, Y = np.meshgrid(x, y)\n",
    "\n",
    "    Z    = clf.predict( np.c_[X.ravel(), Y.ravel()] )\n",
    "    Z    = Z.reshape( X.shape )\n",
    "\n",
    "    plt.contourf( X, Y, Z, cmap=plt.get_cmap('jet'))\n",
    "\n",
    "    plt.show()"
   ]
  },
  {
   "cell_type": "code",
   "execution_count": 17,
   "metadata": {},
   "outputs": [
    {
     "data": {
      "image/png": "[encoded data removed]",
      "text/plain": [
       "<Figure size 432x288 with 1 Axes>"
      ]
     },
     "metadata": {
      "needs_background": "light"
     },
     "output_type": "display_data"
    }
   ],
   "source": [
    "show_decision_boundary(clf)"
   ]
  },
  {
   "cell_type": "markdown",
   "metadata": {},
   "source": [
    "- Blue: Class \"0\"\n",
    "- Red: Class \"1\"\n",
    "\n",
    "This looks overly complicated, and it might have hurt classification performance on the test set because of this. This is called _overfitting_. We might need a simpler model to generalize well.\n",
    "\n",
    "Let's try a smaller `max_depth`. "
   ]
  },
  {
   "cell_type": "code",
   "execution_count": 18,
   "metadata": {},
   "outputs": [],
   "source": [
    "clf = DecisionTreeClassifier(max_depth=2, random_state=seed)"
   ]
  },
  {
   "cell_type": "code",
   "execution_count": 19,
   "metadata": {},
   "outputs": [
    {
     "data": {
      "text/plain": [
       "DecisionTreeClassifier(max_depth=2, random_state=3)"
      ]
     },
     "execution_count": 19,
     "metadata": {},
     "output_type": "execute_result"
    }
   ],
   "source": [
    "clf.fit(features_train, labels_train)"
   ]
  },
  {
   "cell_type": "code",
   "execution_count": 20,
   "metadata": {},
   "outputs": [
    {
     "data": {
      "text/plain": [
       "0.555"
      ]
     },
     "execution_count": 20,
     "metadata": {},
     "output_type": "execute_result"
    }
   ],
   "source": [
    "clf.score(features_train, labels_train)"
   ]
  },
  {
   "cell_type": "code",
   "execution_count": 21,
   "metadata": {},
   "outputs": [
    {
     "data": {
      "text/plain": [
       "0.49"
      ]
     },
     "execution_count": 21,
     "metadata": {},
     "output_type": "execute_result"
    }
   ],
   "source": [
    "clf.score(features_test, labels_test)"
   ]
  },
  {
   "cell_type": "code",
   "execution_count": 22,
   "metadata": {},
   "outputs": [
    {
     "data": {
      "image/svg+xml": [
       "<?xml version=\"1.0\" encoding=\"UTF-8\" standalone=\"no\"?>\n",
       "<!DOCTYPE svg PUBLIC \"-//W3C//DTD SVG 1.1//EN\"\n",
       " \"http://www.w3.org/Graphics/SVG/1.1/DTD/svg11.dtd\">\n",
       "<!-- Generated by graphviz version 2.47.2 (0)\n",
       " -->\n",
       "<!-- Title: Tree Pages: 1 -->\n",
       "<svg width=\"475pt\" height=\"269pt\"\n",
       " viewBox=\"0.00 0.00 474.50 269.00\" xmlns=\"http://www.w3.org/2000/svg\" xmlns:xlink=\"http://www.w3.org/1999/xlink\">\n",
       "<g id=\"graph0\" class=\"graph\" transform=\"scale(1 1) rotate(0) translate(4 265)\">\n",
       "<title>Tree</title>\n",
       "<polygon fill=\"white\" stroke=\"transparent\" points=\"-4,4 -4,-265 470.5,-265 470.5,4 -4,4\"/>\n",
       "<!-- 0 -->\n",
       "<g id=\"node1\" class=\"node\">\n",
       "<title>0</title>\n",
       "<polygon fill=\"none\" stroke=\"black\" points=\"309,-261 190,-261 190,-193 309,-193 309,-261\"/>\n",
       "<text text-anchor=\"middle\" x=\"249.5\" y=\"-245.8\" font-family=\"Times,serif\" font-size=\"14.00\">X[1] &lt;= 4.11</text>\n",
       "<text text-anchor=\"middle\" x=\"249.5\" y=\"-230.8\" font-family=\"Times,serif\" font-size=\"14.00\">gini = 0.499</text>\n",
       "<text text-anchor=\"middle\" x=\"249.5\" y=\"-215.8\" font-family=\"Times,serif\" font-size=\"14.00\">samples = 400</text>\n",
       "<text text-anchor=\"middle\" x=\"249.5\" y=\"-200.8\" font-family=\"Times,serif\" font-size=\"14.00\">value = [207, 193]</text>\n",
       "</g>\n",
       "<!-- 1 -->\n",
       "<g id=\"node2\" class=\"node\">\n",
       "<title>1</title>\n",
       "<polygon fill=\"none\" stroke=\"black\" points=\"246,-157 127,-157 127,-89 246,-89 246,-157\"/>\n",
       "<text text-anchor=\"middle\" x=\"186.5\" y=\"-141.8\" font-family=\"Times,serif\" font-size=\"14.00\">X[0] &lt;= 3.057</text>\n",
       "<text text-anchor=\"middle\" x=\"186.5\" y=\"-126.8\" font-family=\"Times,serif\" font-size=\"14.00\">gini = 0.5</text>\n",
       "<text text-anchor=\"middle\" x=\"186.5\" y=\"-111.8\" font-family=\"Times,serif\" font-size=\"14.00\">samples = 390</text>\n",
       "<text text-anchor=\"middle\" x=\"186.5\" y=\"-96.8\" font-family=\"Times,serif\" font-size=\"14.00\">value = [198, 192]</text>\n",
       "</g>\n",
       "<!-- 0&#45;&gt;1 -->\n",
       "<g id=\"edge1\" class=\"edge\">\n",
       "<title>0&#45;&gt;1</title>\n",
       "<path fill=\"none\" stroke=\"black\" d=\"M229.05,-192.88C223.76,-184.33 218.01,-175.01 212.49,-166.07\"/>\n",
       "<polygon fill=\"black\" stroke=\"black\" points=\"215.3,-163.97 207.07,-157.3 209.34,-167.65 215.3,-163.97\"/>\n",
       "<text text-anchor=\"middle\" x=\"201.32\" y=\"-177.93\" font-family=\"Times,serif\" font-size=\"14.00\">True</text>\n",
       "</g>\n",
       "<!-- 4 -->\n",
       "<g id=\"node5\" class=\"node\">\n",
       "<title>4</title>\n",
       "<polygon fill=\"none\" stroke=\"black\" points=\"361,-157 264,-157 264,-89 361,-89 361,-157\"/>\n",
       "<text text-anchor=\"middle\" x=\"312.5\" y=\"-141.8\" font-family=\"Times,serif\" font-size=\"14.00\">X[0] &lt;= 0.475</text>\n",
       "<text text-anchor=\"middle\" x=\"312.5\" y=\"-126.8\" font-family=\"Times,serif\" font-size=\"14.00\">gini = 0.18</text>\n",
       "<text text-anchor=\"middle\" x=\"312.5\" y=\"-111.8\" font-family=\"Times,serif\" font-size=\"14.00\">samples = 10</text>\n",
       "<text text-anchor=\"middle\" x=\"312.5\" y=\"-96.8\" font-family=\"Times,serif\" font-size=\"14.00\">value = [9, 1]</text>\n",
       "</g>\n",
       "<!-- 0&#45;&gt;4 -->\n",
       "<g id=\"edge4\" class=\"edge\">\n",
       "<title>0&#45;&gt;4</title>\n",
       "<path fill=\"none\" stroke=\"black\" d=\"M269.95,-192.88C275.24,-184.33 280.99,-175.01 286.51,-166.07\"/>\n",
       "<polygon fill=\"black\" stroke=\"black\" points=\"289.66,-167.65 291.93,-157.3 283.7,-163.97 289.66,-167.65\"/>\n",
       "<text text-anchor=\"middle\" x=\"297.68\" y=\"-177.93\" font-family=\"Times,serif\" font-size=\"14.00\">False</text>\n",
       "</g>\n",
       "<!-- 2 -->\n",
       "<g id=\"node3\" class=\"node\">\n",
       "<title>2</title>\n",
       "<polygon fill=\"none\" stroke=\"black\" points=\"119,-53 0,-53 0,0 119,0 119,-53\"/>\n",
       "<text text-anchor=\"middle\" x=\"59.5\" y=\"-37.8\" font-family=\"Times,serif\" font-size=\"14.00\">gini = 0.498</text>\n",
       "<text text-anchor=\"middle\" x=\"59.5\" y=\"-22.8\" font-family=\"Times,serif\" font-size=\"14.00\">samples = 294</text>\n",
       "<text text-anchor=\"middle\" x=\"59.5\" y=\"-7.8\" font-family=\"Times,serif\" font-size=\"14.00\">value = [157, 137]</text>\n",
       "</g>\n",
       "<!-- 1&#45;&gt;2 -->\n",
       "<g id=\"edge2\" class=\"edge\">\n",
       "<title>1&#45;&gt;2</title>\n",
       "<path fill=\"none\" stroke=\"black\" d=\"M142.08,-88.95C129.17,-79.34 115.1,-68.87 102.3,-59.34\"/>\n",
       "<polygon fill=\"black\" stroke=\"black\" points=\"104.2,-56.4 94.09,-53.24 100.02,-62.01 104.2,-56.4\"/>\n",
       "</g>\n",
       "<!-- 3 -->\n",
       "<g id=\"node4\" class=\"node\">\n",
       "<title>3</title>\n",
       "<polygon fill=\"none\" stroke=\"black\" points=\"242,-53 137,-53 137,0 242,0 242,-53\"/>\n",
       "<text text-anchor=\"middle\" x=\"189.5\" y=\"-37.8\" font-family=\"Times,serif\" font-size=\"14.00\">gini = 0.489</text>\n",
       "<text text-anchor=\"middle\" x=\"189.5\" y=\"-22.8\" font-family=\"Times,serif\" font-size=\"14.00\">samples = 96</text>\n",
       "<text text-anchor=\"middle\" x=\"189.5\" y=\"-7.8\" font-family=\"Times,serif\" font-size=\"14.00\">value = [41, 55]</text>\n",
       "</g>\n",
       "<!-- 1&#45;&gt;3 -->\n",
       "<g id=\"edge3\" class=\"edge\">\n",
       "<title>1&#45;&gt;3</title>\n",
       "<path fill=\"none\" stroke=\"black\" d=\"M187.55,-88.95C187.81,-80.72 188.09,-71.85 188.36,-63.48\"/>\n",
       "<polygon fill=\"black\" stroke=\"black\" points=\"191.86,-63.34 188.68,-53.24 184.87,-63.12 191.86,-63.34\"/>\n",
       "</g>\n",
       "<!-- 5 -->\n",
       "<g id=\"node6\" class=\"node\">\n",
       "<title>5</title>\n",
       "<polygon fill=\"none\" stroke=\"black\" points=\"356.5,-53 264.5,-53 264.5,0 356.5,0 356.5,-53\"/>\n",
       "<text text-anchor=\"middle\" x=\"310.5\" y=\"-37.8\" font-family=\"Times,serif\" font-size=\"14.00\">gini = 0.0</text>\n",
       "<text text-anchor=\"middle\" x=\"310.5\" y=\"-22.8\" font-family=\"Times,serif\" font-size=\"14.00\">samples = 1</text>\n",
       "<text text-anchor=\"middle\" x=\"310.5\" y=\"-7.8\" font-family=\"Times,serif\" font-size=\"14.00\">value = [0, 1]</text>\n",
       "</g>\n",
       "<!-- 4&#45;&gt;5 -->\n",
       "<g id=\"edge5\" class=\"edge\">\n",
       "<title>4&#45;&gt;5</title>\n",
       "<path fill=\"none\" stroke=\"black\" d=\"M311.8,-88.95C311.63,-80.72 311.44,-71.85 311.26,-63.48\"/>\n",
       "<polygon fill=\"black\" stroke=\"black\" points=\"314.76,-63.16 311.04,-53.24 307.76,-63.31 314.76,-63.16\"/>\n",
       "</g>\n",
       "<!-- 6 -->\n",
       "<g id=\"node7\" class=\"node\">\n",
       "<title>6</title>\n",
       "<polygon fill=\"none\" stroke=\"black\" points=\"466.5,-53 374.5,-53 374.5,0 466.5,0 466.5,-53\"/>\n",
       "<text text-anchor=\"middle\" x=\"420.5\" y=\"-37.8\" font-family=\"Times,serif\" font-size=\"14.00\">gini = 0.0</text>\n",
       "<text text-anchor=\"middle\" x=\"420.5\" y=\"-22.8\" font-family=\"Times,serif\" font-size=\"14.00\">samples = 9</text>\n",
       "<text text-anchor=\"middle\" x=\"420.5\" y=\"-7.8\" font-family=\"Times,serif\" font-size=\"14.00\">value = [9, 0]</text>\n",
       "</g>\n",
       "<!-- 4&#45;&gt;6 -->\n",
       "<g id=\"edge6\" class=\"edge\">\n",
       "<title>4&#45;&gt;6</title>\n",
       "<path fill=\"none\" stroke=\"black\" d=\"M350.27,-88.95C361.04,-79.53 372.76,-69.27 383.48,-59.89\"/>\n",
       "<polygon fill=\"black\" stroke=\"black\" points=\"385.87,-62.46 391.09,-53.24 381.26,-57.19 385.87,-62.46\"/>\n",
       "</g>\n",
       "</g>\n",
       "</svg>\n"
      ],
      "text/plain": [
       "<graphviz.files.Source at 0x7fe43ac94f40>"
      ]
     },
     "execution_count": 22,
     "metadata": {},
     "output_type": "execute_result"
    }
   ],
   "source": [
    "show_tree(clf)"
   ]
  },
  {
   "cell_type": "code",
   "execution_count": 23,
   "metadata": {},
   "outputs": [
    {
     "data": {
      "image/png": "[encoded data removed]",
      "text/plain": [
       "<Figure size 432x288 with 1 Axes>"
      ]
     },
     "metadata": {
      "needs_background": "light"
     },
     "output_type": "display_data"
    }
   ],
   "source": [
    "show_decision_boundary(clf)"
   ]
  },
  {
   "cell_type": "markdown",
   "metadata": {},
   "source": [
    "The decision boundary is way too simple, and the classifier does not perform well on the test set. This is called _underfitting_. We need more complex model for better performance."
   ]
  },
  {
   "cell_type": "markdown",
   "metadata": {},
   "source": [
    " Let's try to get something in the middle."
   ]
  },
  {
   "cell_type": "code",
   "execution_count": 24,
   "metadata": {},
   "outputs": [
    {
     "data": {
      "text/plain": [
       "0.966"
      ]
     },
     "execution_count": 24,
     "metadata": {},
     "output_type": "execute_result"
    }
   ],
   "source": [
    "clf = DecisionTreeClassifier(max_depth=5, random_state=seed)\n",
    "clf.fit( features, labels )\n",
    "clf.score( features, labels )"
   ]
  },
  {
   "cell_type": "code",
   "execution_count": 25,
   "metadata": {},
   "outputs": [
    {
     "data": {
      "text/plain": [
       "0.94"
      ]
     },
     "execution_count": 25,
     "metadata": {},
     "output_type": "execute_result"
    }
   ],
   "source": [
    "clf.score( features_test, labels_test )"
   ]
  },
  {
   "cell_type": "code",
   "execution_count": 26,
   "metadata": {},
   "outputs": [
    {
     "data": {
      "image/svg+xml": [
       "<?xml version=\"1.0\" encoding=\"UTF-8\" standalone=\"no\"?>\n",
       "<!DOCTYPE svg PUBLIC \"-//W3C//DTD SVG 1.1//EN\"\n",
       " \"http://www.w3.org/Graphics/SVG/1.1/DTD/svg11.dtd\">\n",
       "<!-- Generated by graphviz version 2.47.2 (0)\n",
       " -->\n",
       "<!-- Title: Tree Pages: 1 -->\n",
       "<svg width=\"707pt\" height=\"581pt\"\n",
       " viewBox=\"0.00 0.00 706.50 581.00\" xmlns=\"http://www.w3.org/2000/svg\" xmlns:xlink=\"http://www.w3.org/1999/xlink\">\n",
       "<g id=\"graph0\" class=\"graph\" transform=\"scale(1 1) rotate(0) translate(4 577)\">\n",
       "<title>Tree</title>\n",
       "<polygon fill=\"white\" stroke=\"transparent\" points=\"-4,4 -4,-577 702.5,-577 702.5,4 -4,4\"/>\n",
       "<!-- 0 -->\n",
       "<g id=\"node1\" class=\"node\">\n",
       "<title>0</title>\n",
       "<polygon fill=\"none\" stroke=\"black\" points=\"546,-573 427,-573 427,-505 546,-505 546,-573\"/>\n",
       "<text text-anchor=\"middle\" x=\"486.5\" y=\"-557.8\" font-family=\"Times,serif\" font-size=\"14.00\">X[1] &lt;= 4.313</text>\n",
       "<text text-anchor=\"middle\" x=\"486.5\" y=\"-542.8\" font-family=\"Times,serif\" font-size=\"14.00\">gini = 0.5</text>\n",
       "<text text-anchor=\"middle\" x=\"486.5\" y=\"-527.8\" font-family=\"Times,serif\" font-size=\"14.00\">samples = 500</text>\n",
       "<text text-anchor=\"middle\" x=\"486.5\" y=\"-512.8\" font-family=\"Times,serif\" font-size=\"14.00\">value = [250, 250]</text>\n",
       "</g>\n",
       "<!-- 1 -->\n",
       "<g id=\"node2\" class=\"node\">\n",
       "<title>1</title>\n",
       "<polygon fill=\"none\" stroke=\"black\" points=\"484,-469 365,-469 365,-401 484,-401 484,-469\"/>\n",
       "<text text-anchor=\"middle\" x=\"424.5\" y=\"-453.8\" font-family=\"Times,serif\" font-size=\"14.00\">X[0] &lt;= 4.781</text>\n",
       "<text text-anchor=\"middle\" x=\"424.5\" y=\"-438.8\" font-family=\"Times,serif\" font-size=\"14.00\">gini = 0.5</text>\n",
       "<text text-anchor=\"middle\" x=\"424.5\" y=\"-423.8\" font-family=\"Times,serif\" font-size=\"14.00\">samples = 495</text>\n",
       "<text text-anchor=\"middle\" x=\"424.5\" y=\"-408.8\" font-family=\"Times,serif\" font-size=\"14.00\">value = [245, 250]</text>\n",
       "</g>\n",
       "<!-- 0&#45;&gt;1 -->\n",
       "<g id=\"edge1\" class=\"edge\">\n",
       "<title>0&#45;&gt;1</title>\n",
       "<path fill=\"none\" stroke=\"black\" d=\"M466.37,-504.88C461.17,-496.33 455.51,-487.01 450.07,-478.07\"/>\n",
       "<polygon fill=\"black\" stroke=\"black\" points=\"452.93,-476.03 444.74,-469.3 446.94,-479.66 452.93,-476.03\"/>\n",
       "<text text-anchor=\"middle\" x=\"438.82\" y=\"-489.89\" font-family=\"Times,serif\" font-size=\"14.00\">True</text>\n",
       "</g>\n",
       "<!-- 16 -->\n",
       "<g id=\"node17\" class=\"node\">\n",
       "<title>16</title>\n",
       "<polygon fill=\"none\" stroke=\"black\" points=\"594.5,-461.5 502.5,-461.5 502.5,-408.5 594.5,-408.5 594.5,-461.5\"/>\n",
       "<text text-anchor=\"middle\" x=\"548.5\" y=\"-446.3\" font-family=\"Times,serif\" font-size=\"14.00\">gini = 0.0</text>\n",
       "<text text-anchor=\"middle\" x=\"548.5\" y=\"-431.3\" font-family=\"Times,serif\" font-size=\"14.00\">samples = 5</text>\n",
       "<text text-anchor=\"middle\" x=\"548.5\" y=\"-416.3\" font-family=\"Times,serif\" font-size=\"14.00\">value = [5, 0]</text>\n",
       "</g>\n",
       "<!-- 0&#45;&gt;16 -->\n",
       "<g id=\"edge16\" class=\"edge\">\n",
       "<title>0&#45;&gt;16</title>\n",
       "<path fill=\"none\" stroke=\"black\" d=\"M506.63,-504.88C513.38,-493.78 520.92,-481.37 527.72,-470.18\"/>\n",
       "<polygon fill=\"black\" stroke=\"black\" points=\"530.78,-471.88 532.99,-461.52 524.8,-468.25 530.78,-471.88\"/>\n",
       "<text text-anchor=\"middle\" x=\"538.91\" y=\"-482.11\" font-family=\"Times,serif\" font-size=\"14.00\">False</text>\n",
       "</g>\n",
       "<!-- 2 -->\n",
       "<g id=\"node3\" class=\"node\">\n",
       "<title>2</title>\n",
       "<polygon fill=\"none\" stroke=\"black\" points=\"422,-365 303,-365 303,-297 422,-297 422,-365\"/>\n",
       "<text text-anchor=\"middle\" x=\"362.5\" y=\"-349.8\" font-family=\"Times,serif\" font-size=\"14.00\">X[0] &lt;= 3.057</text>\n",
       "<text text-anchor=\"middle\" x=\"362.5\" y=\"-334.8\" font-family=\"Times,serif\" font-size=\"14.00\">gini = 0.5</text>\n",
       "<text text-anchor=\"middle\" x=\"362.5\" y=\"-319.8\" font-family=\"Times,serif\" font-size=\"14.00\">samples = 492</text>\n",
       "<text text-anchor=\"middle\" x=\"362.5\" y=\"-304.8\" font-family=\"Times,serif\" font-size=\"14.00\">value = [242, 250]</text>\n",
       "</g>\n",
       "<!-- 1&#45;&gt;2 -->\n",
       "<g id=\"edge2\" class=\"edge\">\n",
       "<title>1&#45;&gt;2</title>\n",
       "<path fill=\"none\" stroke=\"black\" d=\"M404.37,-400.88C399.17,-392.33 393.51,-383.01 388.07,-374.07\"/>\n",
       "<polygon fill=\"black\" stroke=\"black\" points=\"390.93,-372.03 382.74,-365.3 384.94,-375.66 390.93,-372.03\"/>\n",
       "</g>\n",
       "<!-- 15 -->\n",
       "<g id=\"node16\" class=\"node\">\n",
       "<title>15</title>\n",
       "<polygon fill=\"none\" stroke=\"black\" points=\"532.5,-357.5 440.5,-357.5 440.5,-304.5 532.5,-304.5 532.5,-357.5\"/>\n",
       "<text text-anchor=\"middle\" x=\"486.5\" y=\"-342.3\" font-family=\"Times,serif\" font-size=\"14.00\">gini = 0.0</text>\n",
       "<text text-anchor=\"middle\" x=\"486.5\" y=\"-327.3\" font-family=\"Times,serif\" font-size=\"14.00\">samples = 3</text>\n",
       "<text text-anchor=\"middle\" x=\"486.5\" y=\"-312.3\" font-family=\"Times,serif\" font-size=\"14.00\">value = [3, 0]</text>\n",
       "</g>\n",
       "<!-- 1&#45;&gt;15 -->\n",
       "<g id=\"edge15\" class=\"edge\">\n",
       "<title>1&#45;&gt;15</title>\n",
       "<path fill=\"none\" stroke=\"black\" d=\"M444.63,-400.88C451.38,-389.78 458.92,-377.37 465.72,-366.18\"/>\n",
       "<polygon fill=\"black\" stroke=\"black\" points=\"468.78,-367.88 470.99,-357.52 462.8,-364.25 468.78,-367.88\"/>\n",
       "</g>\n",
       "<!-- 3 -->\n",
       "<g id=\"node4\" class=\"node\">\n",
       "<title>3</title>\n",
       "<polygon fill=\"none\" stroke=\"black\" points=\"357,-261 238,-261 238,-193 357,-193 357,-261\"/>\n",
       "<text text-anchor=\"middle\" x=\"297.5\" y=\"-245.8\" font-family=\"Times,serif\" font-size=\"14.00\">X[1] &lt;= 1.421</text>\n",
       "<text text-anchor=\"middle\" x=\"297.5\" y=\"-230.8\" font-family=\"Times,serif\" font-size=\"14.00\">gini = 0.5</text>\n",
       "<text text-anchor=\"middle\" x=\"297.5\" y=\"-215.8\" font-family=\"Times,serif\" font-size=\"14.00\">samples = 380</text>\n",
       "<text text-anchor=\"middle\" x=\"297.5\" y=\"-200.8\" font-family=\"Times,serif\" font-size=\"14.00\">value = [195, 185]</text>\n",
       "</g>\n",
       "<!-- 2&#45;&gt;3 -->\n",
       "<g id=\"edge3\" class=\"edge\">\n",
       "<title>2&#45;&gt;3</title>\n",
       "<path fill=\"none\" stroke=\"black\" d=\"M341.4,-296.88C335.89,-288.24 329.88,-278.82 324.13,-269.79\"/>\n",
       "<polygon fill=\"black\" stroke=\"black\" points=\"327.05,-267.85 318.72,-261.3 321.14,-271.61 327.05,-267.85\"/>\n",
       "</g>\n",
       "<!-- 10 -->\n",
       "<g id=\"node11\" class=\"node\">\n",
       "<title>10</title>\n",
       "<polygon fill=\"none\" stroke=\"black\" points=\"480,-261 375,-261 375,-193 480,-193 480,-261\"/>\n",
       "<text text-anchor=\"middle\" x=\"427.5\" y=\"-245.8\" font-family=\"Times,serif\" font-size=\"14.00\">X[1] &lt;= 1.612</text>\n",
       "<text text-anchor=\"middle\" x=\"427.5\" y=\"-230.8\" font-family=\"Times,serif\" font-size=\"14.00\">gini = 0.487</text>\n",
       "<text text-anchor=\"middle\" x=\"427.5\" y=\"-215.8\" font-family=\"Times,serif\" font-size=\"14.00\">samples = 112</text>\n",
       "<text text-anchor=\"middle\" x=\"427.5\" y=\"-200.8\" font-family=\"Times,serif\" font-size=\"14.00\">value = [47, 65]</text>\n",
       "</g>\n",
       "<!-- 2&#45;&gt;10 -->\n",
       "<g id=\"edge10\" class=\"edge\">\n",
       "<title>2&#45;&gt;10</title>\n",
       "<path fill=\"none\" stroke=\"black\" d=\"M383.6,-296.88C389.11,-288.24 395.12,-278.82 400.87,-269.79\"/>\n",
       "<polygon fill=\"black\" stroke=\"black\" points=\"403.86,-271.61 406.28,-261.3 397.95,-267.85 403.86,-271.61\"/>\n",
       "</g>\n",
       "<!-- 4 -->\n",
       "<g id=\"node5\" class=\"node\">\n",
       "<title>4</title>\n",
       "<polygon fill=\"none\" stroke=\"black\" points=\"225.5,-157 113.5,-157 113.5,-89 225.5,-89 225.5,-157\"/>\n",
       "<text text-anchor=\"middle\" x=\"169.5\" y=\"-141.8\" font-family=\"Times,serif\" font-size=\"14.00\">X[0] &lt;= 1.643</text>\n",
       "<text text-anchor=\"middle\" x=\"169.5\" y=\"-126.8\" font-family=\"Times,serif\" font-size=\"14.00\">gini = 0.444</text>\n",
       "<text text-anchor=\"middle\" x=\"169.5\" y=\"-111.8\" font-family=\"Times,serif\" font-size=\"14.00\">samples = 189</text>\n",
       "<text text-anchor=\"middle\" x=\"169.5\" y=\"-96.8\" font-family=\"Times,serif\" font-size=\"14.00\">value = [126, 63]</text>\n",
       "</g>\n",
       "<!-- 3&#45;&gt;4 -->\n",
       "<g id=\"edge4\" class=\"edge\">\n",
       "<title>3&#45;&gt;4</title>\n",
       "<path fill=\"none\" stroke=\"black\" d=\"M255.94,-192.88C244.21,-183.53 231.32,-173.26 219.15,-163.57\"/>\n",
       "<polygon fill=\"black\" stroke=\"black\" points=\"221.29,-160.79 211.29,-157.3 216.93,-166.27 221.29,-160.79\"/>\n",
       "</g>\n",
       "<!-- 7 -->\n",
       "<g id=\"node8\" class=\"node\">\n",
       "<title>7</title>\n",
       "<polygon fill=\"none\" stroke=\"black\" points=\"355.5,-157 243.5,-157 243.5,-89 355.5,-89 355.5,-157\"/>\n",
       "<text text-anchor=\"middle\" x=\"299.5\" y=\"-141.8\" font-family=\"Times,serif\" font-size=\"14.00\">X[0] &lt;= 1.427</text>\n",
       "<text text-anchor=\"middle\" x=\"299.5\" y=\"-126.8\" font-family=\"Times,serif\" font-size=\"14.00\">gini = 0.462</text>\n",
       "<text text-anchor=\"middle\" x=\"299.5\" y=\"-111.8\" font-family=\"Times,serif\" font-size=\"14.00\">samples = 191</text>\n",
       "<text text-anchor=\"middle\" x=\"299.5\" y=\"-96.8\" font-family=\"Times,serif\" font-size=\"14.00\">value = [69, 122]</text>\n",
       "</g>\n",
       "<!-- 3&#45;&gt;7 -->\n",
       "<g id=\"edge7\" class=\"edge\">\n",
       "<title>3&#45;&gt;7</title>\n",
       "<path fill=\"none\" stroke=\"black\" d=\"M298.15,-192.88C298.31,-184.78 298.48,-175.98 298.65,-167.47\"/>\n",
       "<polygon fill=\"black\" stroke=\"black\" points=\"302.15,-167.37 298.85,-157.3 295.15,-167.23 302.15,-167.37\"/>\n",
       "</g>\n",
       "<!-- 5 -->\n",
       "<g id=\"node6\" class=\"node\">\n",
       "<title>5</title>\n",
       "<polygon fill=\"none\" stroke=\"black\" points=\"105,-53 0,-53 0,0 105,0 105,-53\"/>\n",
       "<text text-anchor=\"middle\" x=\"52.5\" y=\"-37.8\" font-family=\"Times,serif\" font-size=\"14.00\">gini = 0.116</text>\n",
       "<text text-anchor=\"middle\" x=\"52.5\" y=\"-22.8\" font-family=\"Times,serif\" font-size=\"14.00\">samples = 129</text>\n",
       "<text text-anchor=\"middle\" x=\"52.5\" y=\"-7.8\" font-family=\"Times,serif\" font-size=\"14.00\">value = [121, 8]</text>\n",
       "</g>\n",
       "<!-- 4&#45;&gt;5 -->\n",
       "<g id=\"edge5\" class=\"edge\">\n",
       "<title>4&#45;&gt;5</title>\n",
       "<path fill=\"none\" stroke=\"black\" d=\"M128.58,-88.95C116.8,-79.43 103.97,-69.07 92.26,-59.62\"/>\n",
       "<polygon fill=\"black\" stroke=\"black\" points=\"94.34,-56.8 84.36,-53.24 89.94,-62.24 94.34,-56.8\"/>\n",
       "</g>\n",
       "<!-- 6 -->\n",
       "<g id=\"node7\" class=\"node\">\n",
       "<title>6</title>\n",
       "<polygon fill=\"none\" stroke=\"black\" points=\"221.5,-53 123.5,-53 123.5,0 221.5,0 221.5,-53\"/>\n",
       "<text text-anchor=\"middle\" x=\"172.5\" y=\"-37.8\" font-family=\"Times,serif\" font-size=\"14.00\">gini = 0.153</text>\n",
       "<text text-anchor=\"middle\" x=\"172.5\" y=\"-22.8\" font-family=\"Times,serif\" font-size=\"14.00\">samples = 60</text>\n",
       "<text text-anchor=\"middle\" x=\"172.5\" y=\"-7.8\" font-family=\"Times,serif\" font-size=\"14.00\">value = [5, 55]</text>\n",
       "</g>\n",
       "<!-- 4&#45;&gt;6 -->\n",
       "<g id=\"edge6\" class=\"edge\">\n",
       "<title>4&#45;&gt;6</title>\n",
       "<path fill=\"none\" stroke=\"black\" d=\"M170.55,-88.95C170.81,-80.72 171.09,-71.85 171.36,-63.48\"/>\n",
       "<polygon fill=\"black\" stroke=\"black\" points=\"174.86,-63.34 171.68,-53.24 167.87,-63.12 174.86,-63.34\"/>\n",
       "</g>\n",
       "<!-- 8 -->\n",
       "<g id=\"node9\" class=\"node\">\n",
       "<title>8</title>\n",
       "<polygon fill=\"none\" stroke=\"black\" points=\"350,-53 245,-53 245,0 350,0 350,-53\"/>\n",
       "<text text-anchor=\"middle\" x=\"297.5\" y=\"-37.8\" font-family=\"Times,serif\" font-size=\"14.00\">gini = 0.047</text>\n",
       "<text text-anchor=\"middle\" x=\"297.5\" y=\"-22.8\" font-family=\"Times,serif\" font-size=\"14.00\">samples = 124</text>\n",
       "<text text-anchor=\"middle\" x=\"297.5\" y=\"-7.8\" font-family=\"Times,serif\" font-size=\"14.00\">value = [3, 121]</text>\n",
       "</g>\n",
       "<!-- 7&#45;&gt;8 -->\n",
       "<g id=\"edge8\" class=\"edge\">\n",
       "<title>7&#45;&gt;8</title>\n",
       "<path fill=\"none\" stroke=\"black\" d=\"M298.8,-88.95C298.63,-80.72 298.44,-71.85 298.26,-63.48\"/>\n",
       "<polygon fill=\"black\" stroke=\"black\" points=\"301.76,-63.16 298.04,-53.24 294.76,-63.31 301.76,-63.16\"/>\n",
       "</g>\n",
       "<!-- 9 -->\n",
       "<g id=\"node10\" class=\"node\">\n",
       "<title>9</title>\n",
       "<polygon fill=\"none\" stroke=\"black\" points=\"466.5,-53 368.5,-53 368.5,0 466.5,0 466.5,-53\"/>\n",
       "<text text-anchor=\"middle\" x=\"417.5\" y=\"-37.8\" font-family=\"Times,serif\" font-size=\"14.00\">gini = 0.029</text>\n",
       "<text text-anchor=\"middle\" x=\"417.5\" y=\"-22.8\" font-family=\"Times,serif\" font-size=\"14.00\">samples = 67</text>\n",
       "<text text-anchor=\"middle\" x=\"417.5\" y=\"-7.8\" font-family=\"Times,serif\" font-size=\"14.00\">value = [66, 1]</text>\n",
       "</g>\n",
       "<!-- 7&#45;&gt;9 -->\n",
       "<g id=\"edge9\" class=\"edge\">\n",
       "<title>7&#45;&gt;9</title>\n",
       "<path fill=\"none\" stroke=\"black\" d=\"M340.77,-88.95C352.65,-79.43 365.59,-69.07 377.4,-59.62\"/>\n",
       "<polygon fill=\"black\" stroke=\"black\" points=\"379.75,-62.22 385.36,-53.24 375.37,-56.76 379.75,-62.22\"/>\n",
       "</g>\n",
       "<!-- 11 -->\n",
       "<g id=\"node12\" class=\"node\">\n",
       "<title>11</title>\n",
       "<polygon fill=\"none\" stroke=\"black\" points=\"474.5,-149.5 376.5,-149.5 376.5,-96.5 474.5,-96.5 474.5,-149.5\"/>\n",
       "<text text-anchor=\"middle\" x=\"425.5\" y=\"-134.3\" font-family=\"Times,serif\" font-size=\"14.00\">gini = 0.0</text>\n",
       "<text text-anchor=\"middle\" x=\"425.5\" y=\"-119.3\" font-family=\"Times,serif\" font-size=\"14.00\">samples = 64</text>\n",
       "<text text-anchor=\"middle\" x=\"425.5\" y=\"-104.3\" font-family=\"Times,serif\" font-size=\"14.00\">value = [0, 64]</text>\n",
       "</g>\n",
       "<!-- 10&#45;&gt;11 -->\n",
       "<g id=\"edge11\" class=\"edge\">\n",
       "<title>10&#45;&gt;11</title>\n",
       "<path fill=\"none\" stroke=\"black\" d=\"M426.85,-192.88C426.64,-182.22 426.41,-170.35 426.2,-159.52\"/>\n",
       "<polygon fill=\"black\" stroke=\"black\" points=\"429.7,-159.45 426,-149.52 422.7,-159.59 429.7,-159.45\"/>\n",
       "</g>\n",
       "<!-- 12 -->\n",
       "<g id=\"node13\" class=\"node\">\n",
       "<title>12</title>\n",
       "<polygon fill=\"none\" stroke=\"black\" points=\"590.5,-157 492.5,-157 492.5,-89 590.5,-89 590.5,-157\"/>\n",
       "<text text-anchor=\"middle\" x=\"541.5\" y=\"-141.8\" font-family=\"Times,serif\" font-size=\"14.00\">X[0] &lt;= 3.074</text>\n",
       "<text text-anchor=\"middle\" x=\"541.5\" y=\"-126.8\" font-family=\"Times,serif\" font-size=\"14.00\">gini = 0.041</text>\n",
       "<text text-anchor=\"middle\" x=\"541.5\" y=\"-111.8\" font-family=\"Times,serif\" font-size=\"14.00\">samples = 48</text>\n",
       "<text text-anchor=\"middle\" x=\"541.5\" y=\"-96.8\" font-family=\"Times,serif\" font-size=\"14.00\">value = [47, 1]</text>\n",
       "</g>\n",
       "<!-- 10&#45;&gt;12 -->\n",
       "<g id=\"edge12\" class=\"edge\">\n",
       "<title>10&#45;&gt;12</title>\n",
       "<path fill=\"none\" stroke=\"black\" d=\"M464.51,-192.88C474.77,-183.71 486.01,-173.65 496.66,-164.12\"/>\n",
       "<polygon fill=\"black\" stroke=\"black\" points=\"499.16,-166.58 504.28,-157.3 494.5,-161.36 499.16,-166.58\"/>\n",
       "</g>\n",
       "<!-- 13 -->\n",
       "<g id=\"node14\" class=\"node\">\n",
       "<title>13</title>\n",
       "<polygon fill=\"none\" stroke=\"black\" points=\"582.5,-53 490.5,-53 490.5,0 582.5,0 582.5,-53\"/>\n",
       "<text text-anchor=\"middle\" x=\"536.5\" y=\"-37.8\" font-family=\"Times,serif\" font-size=\"14.00\">gini = 0.0</text>\n",
       "<text text-anchor=\"middle\" x=\"536.5\" y=\"-22.8\" font-family=\"Times,serif\" font-size=\"14.00\">samples = 1</text>\n",
       "<text text-anchor=\"middle\" x=\"536.5\" y=\"-7.8\" font-family=\"Times,serif\" font-size=\"14.00\">value = [0, 1]</text>\n",
       "</g>\n",
       "<!-- 12&#45;&gt;13 -->\n",
       "<g id=\"edge13\" class=\"edge\">\n",
       "<title>12&#45;&gt;13</title>\n",
       "<path fill=\"none\" stroke=\"black\" d=\"M539.75,-88.95C539.32,-80.72 538.85,-71.85 538.4,-63.48\"/>\n",
       "<polygon fill=\"black\" stroke=\"black\" points=\"541.89,-63.04 537.86,-53.24 534.9,-63.41 541.89,-63.04\"/>\n",
       "</g>\n",
       "<!-- 14 -->\n",
       "<g id=\"node15\" class=\"node\">\n",
       "<title>14</title>\n",
       "<polygon fill=\"none\" stroke=\"black\" points=\"698.5,-53 600.5,-53 600.5,0 698.5,0 698.5,-53\"/>\n",
       "<text text-anchor=\"middle\" x=\"649.5\" y=\"-37.8\" font-family=\"Times,serif\" font-size=\"14.00\">gini = 0.0</text>\n",
       "<text text-anchor=\"middle\" x=\"649.5\" y=\"-22.8\" font-family=\"Times,serif\" font-size=\"14.00\">samples = 47</text>\n",
       "<text text-anchor=\"middle\" x=\"649.5\" y=\"-7.8\" font-family=\"Times,serif\" font-size=\"14.00\">value = [47, 0]</text>\n",
       "</g>\n",
       "<!-- 12&#45;&gt;14 -->\n",
       "<g id=\"edge14\" class=\"edge\">\n",
       "<title>12&#45;&gt;14</title>\n",
       "<path fill=\"none\" stroke=\"black\" d=\"M579.27,-88.95C590.04,-79.53 601.76,-69.27 612.48,-59.89\"/>\n",
       "<polygon fill=\"black\" stroke=\"black\" points=\"614.87,-62.46 620.09,-53.24 610.26,-57.19 614.87,-62.46\"/>\n",
       "</g>\n",
       "</g>\n",
       "</svg>\n"
      ],
      "text/plain": [
       "<graphviz.files.Source at 0x7fe43a95b0d0>"
      ]
     },
     "execution_count": 26,
     "metadata": {},
     "output_type": "execute_result"
    }
   ],
   "source": [
    "show_tree(clf)"
   ]
  },
  {
   "cell_type": "code",
   "execution_count": 27,
   "metadata": {},
   "outputs": [
    {
     "data": {
      "image/png": "[encoded data removed]",
      "text/plain": [
       "<Figure size 432x288 with 1 Axes>"
      ]
     },
     "metadata": {
      "needs_background": "light"
     },
     "output_type": "display_data"
    }
   ],
   "source": [
    "show_decision_boundary(clf)"
   ]
  },
  {
   "cell_type": "markdown",
   "metadata": {},
   "source": [
    "Looks better. "
   ]
  },
  {
   "cell_type": "markdown",
   "metadata": {},
   "source": [
    "We have evaluated the test accuracies:\n",
    "\n",
    "| `max_depth = 2` | `max_depth = 5` | `max_depth=10` |\n",
    "|---:|---:|---:|\n",
    "| 0.49 | 0.94 | 0.91 |\n",
    "\n",
    "The model with `max_depth = 5` is the best.\n",
    "\n",
    "### Hyperparameter selection\n",
    "Then is it OK to choose to use `max_depth=5` and use the test set performance to represent performance of decision tree algorithm?\n",
    "\n",
    "__NO__. Why? We make a decision on configuration of algorithm using the test set, and also evaluate the performance using the test set. We may overfit to the dataset we have. Remember, we want our classifiers generalize well to external data points we did not see in the training process. \n",
    "\n",
    "For this purpose, we split out another set of holdout data from the training set, called *validation set*.\n",
    "\n",
    "![](training_validation_test.png)\n",
    "\n",
    "$k$-fold cross-validation, a commonly-used hyperparameter selection method is based on choosing different validation set iteratively. (to be covered in a full workshop)\n"
   ]
  },
  {
   "cell_type": "code",
   "execution_count": null,
   "metadata": {},
   "outputs": [],
   "source": []
  },
  {
   "cell_type": "code",
   "execution_count": null,
   "metadata": {},
   "outputs": [],
   "source": []
  }
 ],
 "metadata": {
  "kernelspec": {
   "display_name": "Python 3",
   "language": "python",
   "name": "python3"
  },
  "language_info": {
   "codemirror_mode": {
    "name": "ipython",
    "version": 3
   },
   "file_extension": ".py",
   "mimetype": "text/x-python",
   "name": "python",
   "nbconvert_exporter": "python",
   "pygments_lexer": "ipython3",
   "version": "3.8.10"
  }
 },
 "nbformat": 4,
 "nbformat_minor": 4
}
